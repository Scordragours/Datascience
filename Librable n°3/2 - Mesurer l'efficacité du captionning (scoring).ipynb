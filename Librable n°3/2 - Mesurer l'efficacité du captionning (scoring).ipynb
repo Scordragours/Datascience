{
 "cells": [
  {
   "cell_type": "markdown",
   "id": "6d265ac6",
   "metadata": {},
   "source": [
    "# __Mesuré l'efficacité du Captioning__\n",
    "---"
   ]
  },
  {
   "cell_type": "markdown",
   "id": "4374e5af",
   "metadata": {},
   "source": [
    "## __Problème__"
   ]
  },
  {
   "cell_type": "markdown",
   "id": "4a225069",
   "metadata": {},
   "source": [
    "Pour mesurer les performances d'un réseau de neurone pour la classification, il existe de multiples facteurs permettant de vérifier la validité d'une prédiction. Beaucoup d'entre eux sont basés sur les valeurs de la matrice de confusion : Accuracy, F1-score, Precision, etc.\n",
    "<br /><br />\n",
    "Or pour mesurer les performances d'un réseau effectuant du captioning, il n'existe pas de mesurer la corrélation entre deux phrases comme pour la classification."
   ]
  },
  {
   "cell_type": "markdown",
   "id": "6a3bc4d5",
   "metadata": {},
   "source": [
    "## __Proposition de solution__"
   ]
  },
  {
   "cell_type": "markdown",
   "id": "604d6621",
   "metadata": {},
   "source": [
    "[Cémantix](https://cemantix.certitudes.org/pedantix) est un jeu qui consiste à trouver un mot au hasard, dans le même style que le chaud ou froid. À chaque proposition de mot effectué, une note (en °C pour le chaud ou froid) est donnée à la proposition, ce score est lié au thème du mot.\n",
    "<br /><br/>\n",
    "Par exemple :\n",
    "![](https://cdn.ordigeek.fr/Cementix.png)\n",
    "<br /><br />\n",
    "Nous pourrions prendre le même système en décomposant les mots des deux phrases (prédiction et l'attendue), par la suite, nous appliquerons un algorithme assez similaire à [Cémantix](https://cemantix.certitudes.org/pedantix) afin d'obtenir un score de corrélation. Dans le cas où il y a plusieurs noms, la corrélation la plus forte sera gardé en mémoire. À la suite, de ces actions, nous calculons une moyenne des scores dans le but d'obtenir un score sur l'ensemble de la phrase.\n",
    "<br /><br />\n",
    "Cependant, cette méthode nécessite un très grand nombre d'actions nécessaire en amont :\n",
    "- Extraire le thème d'un mot.\n",
    "- Trouvé les synonymes d'un mot.\n",
    "- Organiser ces synonymes.\n",
    "- Numériser l'organisation afin de pouvoir effectuer des calculs de corrélation par la suite."
   ]
  }
 ],
 "metadata": {
  "kernelspec": {
   "display_name": "Python 3 (ipykernel)",
   "language": "python",
   "name": "python3"
  },
  "language_info": {
   "codemirror_mode": {
    "name": "ipython",
    "version": 3
   },
   "file_extension": ".py",
   "mimetype": "text/x-python",
   "name": "python",
   "nbconvert_exporter": "python",
   "pygments_lexer": "ipython3",
   "version": "3.9.7"
  }
 },
 "nbformat": 4,
 "nbformat_minor": 5
}
