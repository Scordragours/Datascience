{
 "cells": [
  {
   "cell_type": "markdown",
   "id": "1cfe1e2f",
   "metadata": {},
   "source": [
    "# __Préparation des données__\n",
    "---"
   ]
  },
  {
   "cell_type": "markdown",
   "id": "1c702200",
   "metadata": {},
   "source": [
    "## __Description du dataset__\n",
    "\n",
    "Le dataset complet pour le livrable n°1, nous a été donné par *TouNum* et est composé de cinq sous dataset : Painting, Photo, Schematics, Sketch, Text. Tous ces documents proviennent des scans effectués par *TouNum*, ces scans ont été ensuite labellisés."
   ]
  },
  {
   "cell_type": "markdown",
   "id": "f664d731",
   "metadata": {},
   "source": [
    "### *Les images du dossier \"Painting\"*\n",
    "\n",
    "Ce dossier comporte 10 000 peintures appartenant tous à des styles différents : cubisme, abstrait, impressionnisme, nature morte et d'époques différentes. Elles représentent des paysages, des portraits, objets, etc..."
   ]
  },
  {
   "cell_type": "markdown",
   "id": "dfda4060",
   "metadata": {},
   "source": [
    "### *Les images du dossier \"Photo\"*\n",
    "Ce dossier est composé de 10 000 photographies de nourritures, animaux, paysages, hommes, objets du quotidien, etc..."
   ]
  },
  {
   "cell_type": "markdown",
   "id": "33324559",
   "metadata": {},
   "source": [
    "### *Les images du dossier \"Schematics\"*\n",
    "Ce dossier est également composé de 10 000 schémas de cartes, de graphiques ou de représentation mathématiques, de cellules, etc..."
   ]
  },
  {
   "cell_type": "markdown",
   "id": "68427cac",
   "metadata": {},
   "source": [
    "### *Les images du dossier \"Sketch\"*\n",
    "Le dossier de croquis est composé de 1 406 croquis, de portraits, de divers objets : nouriture, véhicules, etc..."
   ]
  },
  {
   "cell_type": "markdown",
   "id": "e914819b",
   "metadata": {},
   "source": [
    "### *Les images du dossier \"Text\"*\n",
    "Ce dernier dossier est au même titre que des quatre premiers dossier composé de 10 000 documents scanné."
   ]
  },
  {
   "cell_type": "markdown",
   "id": "03a0300d",
   "metadata": {},
   "source": [
    "## __Worflow__\n",
    "![Workflow](https://cdn.ordigeek.fr/Worflow-data-preparation.drawio.png)"
   ]
  },
  {
   "cell_type": "markdown",
   "id": "c7d5fec5",
   "metadata": {},
   "source": [
    "## __Extraction des données__\n",
    "Les cinq datasets données par *TouNum* sont des fichiers comprésser, dans un premier temps nous allons les décompresser dans un dossier temporaire."
   ]
  },
  {
   "cell_type": "code",
   "execution_count": 1,
   "id": "210b08f5",
   "metadata": {},
   "outputs": [],
   "source": [
    "import os\n",
    "import shutil\n",
    "from zipfile import ZipFile"
   ]
  },
  {
   "cell_type": "code",
   "execution_count": 2,
   "id": "8e9d45a6",
   "metadata": {},
   "outputs": [],
   "source": [
    "path_datas = \"../Datasets/TouNum/datas/\"\n",
    "path_datasets = \"../Datasets/TouNum/datasets/\""
   ]
  },
  {
   "cell_type": "code",
   "execution_count": 3,
   "id": "728e0409",
   "metadata": {},
   "outputs": [
    {
     "name": "stdout",
     "output_type": "stream",
     "text": [
      "The extraction of 'Dataset Livrable 1 - Text.zip' is finished.\n",
      "The extraction of 'Dataset Livrable 1 - Photo.zip' is finished.\n",
      "The extraction of 'Dataset Livrable 1 - Sketch.zip' is finished.\n",
      "The extraction of 'Dataset Livrable 1 - Painting.zip' is finished.\n",
      "The extraction of 'Dataset Livrable 1 - Schematics.zip' is finished.\n"
     ]
    }
   ],
   "source": [
    "if os.path.exists(path_datasets):\n",
    "    shutil.rmtree(path_datasets)\n",
    "os.mkdir(path_datasets, 0o777)\n",
    "\n",
    "for folder in os.listdir(path_datas):\n",
    "    with ZipFile(f\"{path_datas}/{folder}\", 'r') as zip: \n",
    "        zip.extractall(path_datasets)\n",
    "        print(f\"The extraction of '{folder}' is finished.\")"
   ]
  },
  {
   "cell_type": "markdown",
   "id": "da4d36ed",
   "metadata": {},
   "source": [
    "## __Problèmes du dataset__\n",
    "Lors d'une phase préliminaire d'analyse des datasets, nous avons remarqué plusieurs incohérences/erreurs qui pourraient nuire aux réseaux de neurones sur leurs phases d'apprentissage.\n",
    "\n",
    "Dans cette partie, nous allons donc créer un dataset de correction où les erreurs suivantes seront résolues :\n",
    "- L'extension ne correspondait pas à la signature du fichier.\n",
    "- Nommer les fichiers avec la bonne nomenclatures.\n",
    "- Modification des images pour avoir des canaux RGB.\n",
    "- Suppression des images trop aberrantes pour la classification binaire."
   ]
  },
  {
   "cell_type": "markdown",
   "id": "208f98c4",
   "metadata": {},
   "source": [
    "### *Préparatifs*\n",
    "Pour pouvoir régler les différents problèmes, nous avons besoin d'information sur les fichiers, telle que leurs noms, leurs tailles (largeur et hauteur), leurs labels, etc... \n",
    "\n",
    "Pour cela, on a décidé de faire une lecture de tous les fichiers du datasets pour y intégrer toutes les données nécessaires dans un [pandas DataFrame](https://pandas.pydata.org/pandas-docs/stable/reference/api/pandas.DataFrame.html). Cela va permettre de faciliter certains traitements en agissant sur l'ensemble des données."
   ]
  },
  {
   "cell_type": "code",
   "execution_count": 4,
   "id": "f754b2a9",
   "metadata": {},
   "outputs": [],
   "source": [
    "import os\n",
    "import shutil\n",
    "import pandas as pd\n",
    "from PIL import Image\n",
    "import numpy as np"
   ]
  },
  {
   "cell_type": "code",
   "execution_count": 5,
   "id": "11751974",
   "metadata": {},
   "outputs": [],
   "source": [
    "bias_x, bias_y = (10, 10)\n",
    "path_datasets_corrected = \"../Datasets/TouNum/datasets_corrected\"\n",
    "pictures = pd.DataFrame(columns=[\"FileName\", \"Width\", \"Height\", \"Mode\", \"Label\"])"
   ]
  },
  {
   "cell_type": "code",
   "execution_count": 6,
   "id": "f79e3730",
   "metadata": {},
   "outputs": [
    {
     "name": "stdout",
     "output_type": "stream",
     "text": [
      "The folder 'Schematics' has been read.\n",
      "The folder 'Photo' has been read.\n",
      "The folder 'Text' has been read.\n",
      "The folder 'Sketch' has been read.\n",
      "The folder 'Painting' has been read.\n"
     ]
    },
    {
     "data": {
      "text/html": [
       "<div>\n",
       "<style scoped>\n",
       "    .dataframe tbody tr th:only-of-type {\n",
       "        vertical-align: middle;\n",
       "    }\n",
       "\n",
       "    .dataframe tbody tr th {\n",
       "        vertical-align: top;\n",
       "    }\n",
       "\n",
       "    .dataframe thead th {\n",
       "        text-align: right;\n",
       "    }\n",
       "</style>\n",
       "<table border=\"1\" class=\"dataframe\">\n",
       "  <thead>\n",
       "    <tr style=\"text-align: right;\">\n",
       "      <th></th>\n",
       "      <th>FileName</th>\n",
       "      <th>Width</th>\n",
       "      <th>Height</th>\n",
       "      <th>Mode</th>\n",
       "      <th>Label</th>\n",
       "    </tr>\n",
       "  </thead>\n",
       "  <tbody>\n",
       "    <tr>\n",
       "      <th>0</th>\n",
       "      <td>schematics_08655.jpg</td>\n",
       "      <td>481.0</td>\n",
       "      <td>1787.0</td>\n",
       "      <td>RGB</td>\n",
       "      <td>Schematics</td>\n",
       "    </tr>\n",
       "    <tr>\n",
       "      <th>0</th>\n",
       "      <td>schematics_03882.jpg</td>\n",
       "      <td>367.0</td>\n",
       "      <td>394.0</td>\n",
       "      <td>RGB</td>\n",
       "      <td>Schematics</td>\n",
       "    </tr>\n",
       "    <tr>\n",
       "      <th>0</th>\n",
       "      <td>schematics_00131.jpg</td>\n",
       "      <td>160.0</td>\n",
       "      <td>160.0</td>\n",
       "      <td>RGB</td>\n",
       "      <td>Schematics</td>\n",
       "    </tr>\n",
       "    <tr>\n",
       "      <th>0</th>\n",
       "      <td>schematics_06430.jpg</td>\n",
       "      <td>934.0</td>\n",
       "      <td>355.0</td>\n",
       "      <td>RGB</td>\n",
       "      <td>Schematics</td>\n",
       "    </tr>\n",
       "    <tr>\n",
       "      <th>0</th>\n",
       "      <td>schematics_05999.jpg</td>\n",
       "      <td>573.0</td>\n",
       "      <td>422.0</td>\n",
       "      <td>RGB</td>\n",
       "      <td>Schematics</td>\n",
       "    </tr>\n",
       "    <tr>\n",
       "      <th>...</th>\n",
       "      <td>...</td>\n",
       "      <td>...</td>\n",
       "      <td>...</td>\n",
       "      <td>...</td>\n",
       "      <td>...</td>\n",
       "    </tr>\n",
       "    <tr>\n",
       "      <th>0</th>\n",
       "      <td>painting_05130.jpg</td>\n",
       "      <td>450.0</td>\n",
       "      <td>500.0</td>\n",
       "      <td>RGB</td>\n",
       "      <td>Painting</td>\n",
       "    </tr>\n",
       "    <tr>\n",
       "      <th>0</th>\n",
       "      <td>painting_06799.jpg</td>\n",
       "      <td>715.0</td>\n",
       "      <td>944.0</td>\n",
       "      <td>RGB</td>\n",
       "      <td>Painting</td>\n",
       "    </tr>\n",
       "    <tr>\n",
       "      <th>0</th>\n",
       "      <td>painting_06978.jpg</td>\n",
       "      <td>837.0</td>\n",
       "      <td>1057.0</td>\n",
       "      <td>RGB</td>\n",
       "      <td>Painting</td>\n",
       "    </tr>\n",
       "    <tr>\n",
       "      <th>0</th>\n",
       "      <td>painting_05481.jpg</td>\n",
       "      <td>1666.0</td>\n",
       "      <td>1301.0</td>\n",
       "      <td>RGB</td>\n",
       "      <td>Painting</td>\n",
       "    </tr>\n",
       "    <tr>\n",
       "      <th>0</th>\n",
       "      <td>painting_02249.jpg</td>\n",
       "      <td>578.0</td>\n",
       "      <td>800.0</td>\n",
       "      <td>RGB</td>\n",
       "      <td>Painting</td>\n",
       "    </tr>\n",
       "  </tbody>\n",
       "</table>\n",
       "<p>41406 rows × 5 columns</p>\n",
       "</div>"
      ],
      "text/plain": [
       "                FileName   Width  Height Mode       Label\n",
       "0   schematics_08655.jpg   481.0  1787.0  RGB  Schematics\n",
       "0   schematics_03882.jpg   367.0   394.0  RGB  Schematics\n",
       "0   schematics_00131.jpg   160.0   160.0  RGB  Schematics\n",
       "0   schematics_06430.jpg   934.0   355.0  RGB  Schematics\n",
       "0   schematics_05999.jpg   573.0   422.0  RGB  Schematics\n",
       "..                   ...     ...     ...  ...         ...\n",
       "0     painting_05130.jpg   450.0   500.0  RGB    Painting\n",
       "0     painting_06799.jpg   715.0   944.0  RGB    Painting\n",
       "0     painting_06978.jpg   837.0  1057.0  RGB    Painting\n",
       "0     painting_05481.jpg  1666.0  1301.0  RGB    Painting\n",
       "0     painting_02249.jpg   578.0   800.0  RGB    Painting\n",
       "\n",
       "[41406 rows x 5 columns]"
      ]
     },
     "execution_count": 6,
     "metadata": {},
     "output_type": "execute_result"
    }
   ],
   "source": [
    "for folder in os.listdir(path_datasets):    \n",
    "    for file in os.listdir(f\"{path_datasets}/{folder}\"):\n",
    "        image = Image.open(f\"{path_datasets}/{folder}/{file}\")\n",
    "                \n",
    "        pictures = pd.concat([\n",
    "            pictures,\n",
    "            pd.DataFrame({\n",
    "                \"FileName\": [file],\n",
    "                \"Width\": [float(image.size[0])],\n",
    "                \"Height\": [float(image.size[1])],\n",
    "                \"Mode\": [image.mode],\n",
    "                \"Label\": [folder],\n",
    "            })\n",
    "        ])\n",
    "    print(f\"The folder '{folder}' has been read.\")\n",
    "pictures"
   ]
  },
  {
   "cell_type": "markdown",
   "id": "bf4b1a62",
   "metadata": {},
   "source": [
    "### *Erreurs sur les extensions*\n",
    "Sur l'image suivante, le code hexadécimal d'une image [JPG](https://en.wikipedia.org/wiki/JPG) or la signature du fichier indique que c'est un [Gif](https://en.wikipedia.org/wiki/GIF).\n",
    "![Image de l'error](https://cdn.ordigeek.fr/Error-extensions.png)\n",
    "\n",
    "[PIL Image](https://pillow.readthedocs.io/en/stable/reference/Image.html) ne reconnais pas l'image comme étant un [Gif](https://en.wikipedia.org/wiki/GIF) mais comme un [JPG](https://en.wikipedia.org/wiki/JPG). Ce problème a lieu uniquement sur Windows, en effet sur Linux l'algorithme n'est pas choisie en fonction de l'extension du fichier, mais en fonction de la signature écrite à l'intérieur de celui-ci.\n",
    "\n",
    "Pour que les ordinateurs Windows puissent ensuite utiliser le dataset, on sauvegarde de nouveau les images au format [PNG](https://en.wikipedia.org/wiki/Portable_Network_Graphics).\n",
    "\n",
    "Nous préparons donc la [DataFrame](https://pandas.pydata.org/pandas-docs/stable/reference/api/pandas.DataFrame.html) avec une nouvelle colonne qui contiendra les noms des fichiers sans l'extension."
   ]
  },
  {
   "cell_type": "code",
   "execution_count": 7,
   "id": "39cda705",
   "metadata": {},
   "outputs": [
    {
     "data": {
      "text/html": [
       "<div>\n",
       "<style scoped>\n",
       "    .dataframe tbody tr th:only-of-type {\n",
       "        vertical-align: middle;\n",
       "    }\n",
       "\n",
       "    .dataframe tbody tr th {\n",
       "        vertical-align: top;\n",
       "    }\n",
       "\n",
       "    .dataframe thead th {\n",
       "        text-align: right;\n",
       "    }\n",
       "</style>\n",
       "<table border=\"1\" class=\"dataframe\">\n",
       "  <thead>\n",
       "    <tr style=\"text-align: right;\">\n",
       "      <th></th>\n",
       "      <th>FileName</th>\n",
       "      <th>Width</th>\n",
       "      <th>Height</th>\n",
       "      <th>Mode</th>\n",
       "      <th>Label</th>\n",
       "      <th>FileWithNewName</th>\n",
       "    </tr>\n",
       "  </thead>\n",
       "  <tbody>\n",
       "    <tr>\n",
       "      <th>0</th>\n",
       "      <td>schematics_08655.jpg</td>\n",
       "      <td>481.0</td>\n",
       "      <td>1787.0</td>\n",
       "      <td>RGB</td>\n",
       "      <td>Schematics</td>\n",
       "      <td>schematics_08655</td>\n",
       "    </tr>\n",
       "    <tr>\n",
       "      <th>0</th>\n",
       "      <td>schematics_03882.jpg</td>\n",
       "      <td>367.0</td>\n",
       "      <td>394.0</td>\n",
       "      <td>RGB</td>\n",
       "      <td>Schematics</td>\n",
       "      <td>schematics_03882</td>\n",
       "    </tr>\n",
       "    <tr>\n",
       "      <th>0</th>\n",
       "      <td>schematics_00131.jpg</td>\n",
       "      <td>160.0</td>\n",
       "      <td>160.0</td>\n",
       "      <td>RGB</td>\n",
       "      <td>Schematics</td>\n",
       "      <td>schematics_00131</td>\n",
       "    </tr>\n",
       "    <tr>\n",
       "      <th>0</th>\n",
       "      <td>schematics_06430.jpg</td>\n",
       "      <td>934.0</td>\n",
       "      <td>355.0</td>\n",
       "      <td>RGB</td>\n",
       "      <td>Schematics</td>\n",
       "      <td>schematics_06430</td>\n",
       "    </tr>\n",
       "    <tr>\n",
       "      <th>0</th>\n",
       "      <td>schematics_05999.jpg</td>\n",
       "      <td>573.0</td>\n",
       "      <td>422.0</td>\n",
       "      <td>RGB</td>\n",
       "      <td>Schematics</td>\n",
       "      <td>schematics_05999</td>\n",
       "    </tr>\n",
       "    <tr>\n",
       "      <th>...</th>\n",
       "      <td>...</td>\n",
       "      <td>...</td>\n",
       "      <td>...</td>\n",
       "      <td>...</td>\n",
       "      <td>...</td>\n",
       "      <td>...</td>\n",
       "    </tr>\n",
       "    <tr>\n",
       "      <th>0</th>\n",
       "      <td>painting_05130.jpg</td>\n",
       "      <td>450.0</td>\n",
       "      <td>500.0</td>\n",
       "      <td>RGB</td>\n",
       "      <td>Painting</td>\n",
       "      <td>painting_05130</td>\n",
       "    </tr>\n",
       "    <tr>\n",
       "      <th>0</th>\n",
       "      <td>painting_06799.jpg</td>\n",
       "      <td>715.0</td>\n",
       "      <td>944.0</td>\n",
       "      <td>RGB</td>\n",
       "      <td>Painting</td>\n",
       "      <td>painting_06799</td>\n",
       "    </tr>\n",
       "    <tr>\n",
       "      <th>0</th>\n",
       "      <td>painting_06978.jpg</td>\n",
       "      <td>837.0</td>\n",
       "      <td>1057.0</td>\n",
       "      <td>RGB</td>\n",
       "      <td>Painting</td>\n",
       "      <td>painting_06978</td>\n",
       "    </tr>\n",
       "    <tr>\n",
       "      <th>0</th>\n",
       "      <td>painting_05481.jpg</td>\n",
       "      <td>1666.0</td>\n",
       "      <td>1301.0</td>\n",
       "      <td>RGB</td>\n",
       "      <td>Painting</td>\n",
       "      <td>painting_05481</td>\n",
       "    </tr>\n",
       "    <tr>\n",
       "      <th>0</th>\n",
       "      <td>painting_02249.jpg</td>\n",
       "      <td>578.0</td>\n",
       "      <td>800.0</td>\n",
       "      <td>RGB</td>\n",
       "      <td>Painting</td>\n",
       "      <td>painting_02249</td>\n",
       "    </tr>\n",
       "  </tbody>\n",
       "</table>\n",
       "<p>41406 rows × 6 columns</p>\n",
       "</div>"
      ],
      "text/plain": [
       "                FileName   Width  Height Mode       Label   FileWithNewName\n",
       "0   schematics_08655.jpg   481.0  1787.0  RGB  Schematics  schematics_08655\n",
       "0   schematics_03882.jpg   367.0   394.0  RGB  Schematics  schematics_03882\n",
       "0   schematics_00131.jpg   160.0   160.0  RGB  Schematics  schematics_00131\n",
       "0   schematics_06430.jpg   934.0   355.0  RGB  Schematics  schematics_06430\n",
       "0   schematics_05999.jpg   573.0   422.0  RGB  Schematics  schematics_05999\n",
       "..                   ...     ...     ...  ...         ...               ...\n",
       "0     painting_05130.jpg   450.0   500.0  RGB    Painting    painting_05130\n",
       "0     painting_06799.jpg   715.0   944.0  RGB    Painting    painting_06799\n",
       "0     painting_06978.jpg   837.0  1057.0  RGB    Painting    painting_06978\n",
       "0     painting_05481.jpg  1666.0  1301.0  RGB    Painting    painting_05481\n",
       "0     painting_02249.jpg   578.0   800.0  RGB    Painting    painting_02249\n",
       "\n",
       "[41406 rows x 6 columns]"
      ]
     },
     "execution_count": 7,
     "metadata": {},
     "output_type": "execute_result"
    }
   ],
   "source": [
    "def removeExtension(x):\n",
    "    return os.path.splitext(x)[0]\n",
    "\n",
    "pictures[\"FileWithNewName\"] = pictures[\"FileName\"].apply(removeExtension)\n",
    "pictures"
   ]
  },
  {
   "cell_type": "markdown",
   "id": "9a0b00c9",
   "metadata": {},
   "source": [
    "### *Nomenclature*\n",
    "Comme nous pouvons l'observer sur la [DataFrame](https://pandas.pydata.org/pandas-docs/stable/reference/api/pandas.DataFrame.html), les fichiers ont la nomenclature suivante : `{label in lower case}_{number with five digits}.{extension}`."
   ]
  },
  {
   "cell_type": "code",
   "execution_count": 8,
   "id": "a9cb1688",
   "metadata": {},
   "outputs": [
    {
     "data": {
      "text/html": [
       "<div>\n",
       "<style scoped>\n",
       "    .dataframe tbody tr th:only-of-type {\n",
       "        vertical-align: middle;\n",
       "    }\n",
       "\n",
       "    .dataframe tbody tr th {\n",
       "        vertical-align: top;\n",
       "    }\n",
       "\n",
       "    .dataframe thead th {\n",
       "        text-align: right;\n",
       "    }\n",
       "</style>\n",
       "<table border=\"1\" class=\"dataframe\">\n",
       "  <thead>\n",
       "    <tr style=\"text-align: right;\">\n",
       "      <th></th>\n",
       "      <th>FileName</th>\n",
       "      <th>Width</th>\n",
       "      <th>Height</th>\n",
       "      <th>Mode</th>\n",
       "      <th>Label</th>\n",
       "      <th>FileWithNewName</th>\n",
       "    </tr>\n",
       "  </thead>\n",
       "  <tbody>\n",
       "    <tr>\n",
       "      <th>0</th>\n",
       "      <td>schematics_08655.jpg</td>\n",
       "      <td>481.0</td>\n",
       "      <td>1787.0</td>\n",
       "      <td>RGB</td>\n",
       "      <td>Schematics</td>\n",
       "      <td>schematics_08655</td>\n",
       "    </tr>\n",
       "    <tr>\n",
       "      <th>0</th>\n",
       "      <td>schematics_03882.jpg</td>\n",
       "      <td>367.0</td>\n",
       "      <td>394.0</td>\n",
       "      <td>RGB</td>\n",
       "      <td>Schematics</td>\n",
       "      <td>schematics_03882</td>\n",
       "    </tr>\n",
       "    <tr>\n",
       "      <th>0</th>\n",
       "      <td>schematics_00131.jpg</td>\n",
       "      <td>160.0</td>\n",
       "      <td>160.0</td>\n",
       "      <td>RGB</td>\n",
       "      <td>Schematics</td>\n",
       "      <td>schematics_00131</td>\n",
       "    </tr>\n",
       "    <tr>\n",
       "      <th>0</th>\n",
       "      <td>schematics_06430.jpg</td>\n",
       "      <td>934.0</td>\n",
       "      <td>355.0</td>\n",
       "      <td>RGB</td>\n",
       "      <td>Schematics</td>\n",
       "      <td>schematics_06430</td>\n",
       "    </tr>\n",
       "    <tr>\n",
       "      <th>0</th>\n",
       "      <td>schematics_05999.jpg</td>\n",
       "      <td>573.0</td>\n",
       "      <td>422.0</td>\n",
       "      <td>RGB</td>\n",
       "      <td>Schematics</td>\n",
       "      <td>schematics_05999</td>\n",
       "    </tr>\n",
       "    <tr>\n",
       "      <th>...</th>\n",
       "      <td>...</td>\n",
       "      <td>...</td>\n",
       "      <td>...</td>\n",
       "      <td>...</td>\n",
       "      <td>...</td>\n",
       "      <td>...</td>\n",
       "    </tr>\n",
       "    <tr>\n",
       "      <th>0</th>\n",
       "      <td>painting_05130.jpg</td>\n",
       "      <td>450.0</td>\n",
       "      <td>500.0</td>\n",
       "      <td>RGB</td>\n",
       "      <td>Painting</td>\n",
       "      <td>painting_05130</td>\n",
       "    </tr>\n",
       "    <tr>\n",
       "      <th>0</th>\n",
       "      <td>painting_06799.jpg</td>\n",
       "      <td>715.0</td>\n",
       "      <td>944.0</td>\n",
       "      <td>RGB</td>\n",
       "      <td>Painting</td>\n",
       "      <td>painting_06799</td>\n",
       "    </tr>\n",
       "    <tr>\n",
       "      <th>0</th>\n",
       "      <td>painting_06978.jpg</td>\n",
       "      <td>837.0</td>\n",
       "      <td>1057.0</td>\n",
       "      <td>RGB</td>\n",
       "      <td>Painting</td>\n",
       "      <td>painting_06978</td>\n",
       "    </tr>\n",
       "    <tr>\n",
       "      <th>0</th>\n",
       "      <td>painting_05481.jpg</td>\n",
       "      <td>1666.0</td>\n",
       "      <td>1301.0</td>\n",
       "      <td>RGB</td>\n",
       "      <td>Painting</td>\n",
       "      <td>painting_05481</td>\n",
       "    </tr>\n",
       "    <tr>\n",
       "      <th>0</th>\n",
       "      <td>painting_02249.jpg</td>\n",
       "      <td>578.0</td>\n",
       "      <td>800.0</td>\n",
       "      <td>RGB</td>\n",
       "      <td>Painting</td>\n",
       "      <td>painting_02249</td>\n",
       "    </tr>\n",
       "  </tbody>\n",
       "</table>\n",
       "<p>40000 rows × 6 columns</p>\n",
       "</div>"
      ],
      "text/plain": [
       "                FileName   Width  Height Mode       Label   FileWithNewName\n",
       "0   schematics_08655.jpg   481.0  1787.0  RGB  Schematics  schematics_08655\n",
       "0   schematics_03882.jpg   367.0   394.0  RGB  Schematics  schematics_03882\n",
       "0   schematics_00131.jpg   160.0   160.0  RGB  Schematics  schematics_00131\n",
       "0   schematics_06430.jpg   934.0   355.0  RGB  Schematics  schematics_06430\n",
       "0   schematics_05999.jpg   573.0   422.0  RGB  Schematics  schematics_05999\n",
       "..                   ...     ...     ...  ...         ...               ...\n",
       "0     painting_05130.jpg   450.0   500.0  RGB    Painting    painting_05130\n",
       "0     painting_06799.jpg   715.0   944.0  RGB    Painting    painting_06799\n",
       "0     painting_06978.jpg   837.0  1057.0  RGB    Painting    painting_06978\n",
       "0     painting_05481.jpg  1666.0  1301.0  RGB    Painting    painting_05481\n",
       "0     painting_02249.jpg   578.0   800.0  RGB    Painting    painting_02249\n",
       "\n",
       "[40000 rows x 6 columns]"
      ]
     },
     "execution_count": 8,
     "metadata": {},
     "output_type": "execute_result"
    }
   ],
   "source": [
    "def fileNameLabel(x):\n",
    "    return x.split(\"_\")[0]\n",
    "\n",
    "def lower(x):\n",
    "    return x.lower()\n",
    "\n",
    "pictures[pictures[\"FileWithNewName\"].apply(fileNameLabel) == pictures[\"Label\"].apply(lower)]"
   ]
  },
  {
   "cell_type": "markdown",
   "id": "b5449d36",
   "metadata": {},
   "source": [
    "Or en regardant, tous les fichiers n'appliquent pas cette nomenclature, nous pouvons observer qu'il y a 1406 fichiers ne portant pas de nomenclature."
   ]
  },
  {
   "cell_type": "code",
   "execution_count": 9,
   "id": "21c772cf",
   "metadata": {},
   "outputs": [
    {
     "data": {
      "text/html": [
       "<div>\n",
       "<style scoped>\n",
       "    .dataframe tbody tr th:only-of-type {\n",
       "        vertical-align: middle;\n",
       "    }\n",
       "\n",
       "    .dataframe tbody tr th {\n",
       "        vertical-align: top;\n",
       "    }\n",
       "\n",
       "    .dataframe thead th {\n",
       "        text-align: right;\n",
       "    }\n",
       "</style>\n",
       "<table border=\"1\" class=\"dataframe\">\n",
       "  <thead>\n",
       "    <tr style=\"text-align: right;\">\n",
       "      <th></th>\n",
       "      <th>FileName</th>\n",
       "      <th>Width</th>\n",
       "      <th>Height</th>\n",
       "      <th>Mode</th>\n",
       "      <th>Label</th>\n",
       "      <th>FileWithNewName</th>\n",
       "    </tr>\n",
       "  </thead>\n",
       "  <tbody>\n",
       "    <tr>\n",
       "      <th>0</th>\n",
       "      <td>182_1_1_sz1.jpg</td>\n",
       "      <td>411.0</td>\n",
       "      <td>583.0</td>\n",
       "      <td>RGB</td>\n",
       "      <td>Sketch</td>\n",
       "      <td>182_1_1_sz1</td>\n",
       "    </tr>\n",
       "    <tr>\n",
       "      <th>0</th>\n",
       "      <td>358.png</td>\n",
       "      <td>1111.0</td>\n",
       "      <td>1111.0</td>\n",
       "      <td>L</td>\n",
       "      <td>Sketch</td>\n",
       "      <td>358</td>\n",
       "    </tr>\n",
       "    <tr>\n",
       "      <th>0</th>\n",
       "      <td>285_1_1_sz1.jpg</td>\n",
       "      <td>414.0</td>\n",
       "      <td>583.0</td>\n",
       "      <td>RGB</td>\n",
       "      <td>Sketch</td>\n",
       "      <td>285_1_1_sz1</td>\n",
       "    </tr>\n",
       "    <tr>\n",
       "      <th>0</th>\n",
       "      <td>053_1_1_sz1.jpg</td>\n",
       "      <td>411.0</td>\n",
       "      <td>583.0</td>\n",
       "      <td>RGB</td>\n",
       "      <td>Sketch</td>\n",
       "      <td>053_1_1_sz1</td>\n",
       "    </tr>\n",
       "    <tr>\n",
       "      <th>0</th>\n",
       "      <td>m1-033-01-sz1.jpg</td>\n",
       "      <td>414.0</td>\n",
       "      <td>582.0</td>\n",
       "      <td>L</td>\n",
       "      <td>Sketch</td>\n",
       "      <td>m1-033-01-sz1</td>\n",
       "    </tr>\n",
       "    <tr>\n",
       "      <th>...</th>\n",
       "      <td>...</td>\n",
       "      <td>...</td>\n",
       "      <td>...</td>\n",
       "      <td>...</td>\n",
       "      <td>...</td>\n",
       "      <td>...</td>\n",
       "    </tr>\n",
       "    <tr>\n",
       "      <th>0</th>\n",
       "      <td>2885.png</td>\n",
       "      <td>1111.0</td>\n",
       "      <td>1111.0</td>\n",
       "      <td>L</td>\n",
       "      <td>Sketch</td>\n",
       "      <td>2885</td>\n",
       "    </tr>\n",
       "    <tr>\n",
       "      <th>0</th>\n",
       "      <td>233_1_1_sz1.jpg</td>\n",
       "      <td>414.0</td>\n",
       "      <td>583.0</td>\n",
       "      <td>RGB</td>\n",
       "      <td>Sketch</td>\n",
       "      <td>233_1_1_sz1</td>\n",
       "    </tr>\n",
       "    <tr>\n",
       "      <th>0</th>\n",
       "      <td>28.png</td>\n",
       "      <td>1111.0</td>\n",
       "      <td>1111.0</td>\n",
       "      <td>L</td>\n",
       "      <td>Sketch</td>\n",
       "      <td>28</td>\n",
       "    </tr>\n",
       "    <tr>\n",
       "      <th>0</th>\n",
       "      <td>m1-027-01-sz1.jpg</td>\n",
       "      <td>414.0</td>\n",
       "      <td>582.0</td>\n",
       "      <td>L</td>\n",
       "      <td>Sketch</td>\n",
       "      <td>m1-027-01-sz1</td>\n",
       "    </tr>\n",
       "    <tr>\n",
       "      <th>0</th>\n",
       "      <td>m2-041-01-sz1.jpg</td>\n",
       "      <td>414.0</td>\n",
       "      <td>582.0</td>\n",
       "      <td>RGB</td>\n",
       "      <td>Sketch</td>\n",
       "      <td>m2-041-01-sz1</td>\n",
       "    </tr>\n",
       "  </tbody>\n",
       "</table>\n",
       "<p>1406 rows × 6 columns</p>\n",
       "</div>"
      ],
      "text/plain": [
       "             FileName   Width  Height Mode   Label FileWithNewName\n",
       "0     182_1_1_sz1.jpg   411.0   583.0  RGB  Sketch     182_1_1_sz1\n",
       "0             358.png  1111.0  1111.0    L  Sketch             358\n",
       "0     285_1_1_sz1.jpg   414.0   583.0  RGB  Sketch     285_1_1_sz1\n",
       "0     053_1_1_sz1.jpg   411.0   583.0  RGB  Sketch     053_1_1_sz1\n",
       "0   m1-033-01-sz1.jpg   414.0   582.0    L  Sketch   m1-033-01-sz1\n",
       "..                ...     ...     ...  ...     ...             ...\n",
       "0            2885.png  1111.0  1111.0    L  Sketch            2885\n",
       "0     233_1_1_sz1.jpg   414.0   583.0  RGB  Sketch     233_1_1_sz1\n",
       "0              28.png  1111.0  1111.0    L  Sketch              28\n",
       "0   m1-027-01-sz1.jpg   414.0   582.0    L  Sketch   m1-027-01-sz1\n",
       "0   m2-041-01-sz1.jpg   414.0   582.0  RGB  Sketch   m2-041-01-sz1\n",
       "\n",
       "[1406 rows x 6 columns]"
      ]
     },
     "execution_count": 9,
     "metadata": {},
     "output_type": "execute_result"
    }
   ],
   "source": [
    "pictureNammed = pictures[pictures[\"FileWithNewName\"].apply(fileNameLabel) != pictures[\"Label\"].apply(lower)]\n",
    "pictureNammed"
   ]
  },
  {
   "cell_type": "markdown",
   "id": "8cd19e36",
   "metadata": {},
   "source": [
    "En observant de plus près les fichiers, nous nous sommes rendus compte que seul le dataset \"Sketch\" est concerné. Cela se vérifie avec la ligne de code suivante :"
   ]
  },
  {
   "cell_type": "code",
   "execution_count": 10,
   "id": "4bcae303",
   "metadata": {},
   "outputs": [
    {
     "data": {
      "text/plain": [
       "Sketch    1406\n",
       "Name: Label, dtype: int64"
      ]
     },
     "execution_count": 10,
     "metadata": {},
     "output_type": "execute_result"
    }
   ],
   "source": [
    "pictureNammed[\"Label\"].value_counts()"
   ]
  },
  {
   "cell_type": "markdown",
   "id": "de4403cf",
   "metadata": {},
   "source": [
    "Pour régler, ce problème, nous allons au moment de sauvegarder les images dans le dataset corrigé les renommer avec la bonne nomenclature.\n",
    "\n",
    "Nous préparons donc la [DataFrame](https://pandas.pydata.org/pandas-docs/stable/reference/api/pandas.DataFrame.html) en ajoutant à la colonne \"FileWithNewName\", le label en minuscule devant l'ancien nom."
   ]
  },
  {
   "cell_type": "code",
   "execution_count": 11,
   "id": "ddbd2b2a",
   "metadata": {
    "scrolled": true
   },
   "outputs": [
    {
     "data": {
      "text/html": [
       "<div>\n",
       "<style scoped>\n",
       "    .dataframe tbody tr th:only-of-type {\n",
       "        vertical-align: middle;\n",
       "    }\n",
       "\n",
       "    .dataframe tbody tr th {\n",
       "        vertical-align: top;\n",
       "    }\n",
       "\n",
       "    .dataframe thead th {\n",
       "        text-align: right;\n",
       "    }\n",
       "</style>\n",
       "<table border=\"1\" class=\"dataframe\">\n",
       "  <thead>\n",
       "    <tr style=\"text-align: right;\">\n",
       "      <th></th>\n",
       "      <th>FileName</th>\n",
       "      <th>Width</th>\n",
       "      <th>Height</th>\n",
       "      <th>Mode</th>\n",
       "      <th>Label</th>\n",
       "      <th>FileWithNewName</th>\n",
       "    </tr>\n",
       "  </thead>\n",
       "  <tbody>\n",
       "    <tr>\n",
       "      <th>0</th>\n",
       "      <td>schematics_08655.jpg</td>\n",
       "      <td>481.0</td>\n",
       "      <td>1787.0</td>\n",
       "      <td>RGB</td>\n",
       "      <td>Schematics</td>\n",
       "      <td>schematics_08655</td>\n",
       "    </tr>\n",
       "    <tr>\n",
       "      <th>0</th>\n",
       "      <td>schematics_03882.jpg</td>\n",
       "      <td>367.0</td>\n",
       "      <td>394.0</td>\n",
       "      <td>RGB</td>\n",
       "      <td>Schematics</td>\n",
       "      <td>schematics_03882</td>\n",
       "    </tr>\n",
       "    <tr>\n",
       "      <th>0</th>\n",
       "      <td>schematics_00131.jpg</td>\n",
       "      <td>160.0</td>\n",
       "      <td>160.0</td>\n",
       "      <td>RGB</td>\n",
       "      <td>Schematics</td>\n",
       "      <td>schematics_00131</td>\n",
       "    </tr>\n",
       "    <tr>\n",
       "      <th>0</th>\n",
       "      <td>schematics_06430.jpg</td>\n",
       "      <td>934.0</td>\n",
       "      <td>355.0</td>\n",
       "      <td>RGB</td>\n",
       "      <td>Schematics</td>\n",
       "      <td>schematics_06430</td>\n",
       "    </tr>\n",
       "    <tr>\n",
       "      <th>0</th>\n",
       "      <td>schematics_05999.jpg</td>\n",
       "      <td>573.0</td>\n",
       "      <td>422.0</td>\n",
       "      <td>RGB</td>\n",
       "      <td>Schematics</td>\n",
       "      <td>schematics_05999</td>\n",
       "    </tr>\n",
       "    <tr>\n",
       "      <th>...</th>\n",
       "      <td>...</td>\n",
       "      <td>...</td>\n",
       "      <td>...</td>\n",
       "      <td>...</td>\n",
       "      <td>...</td>\n",
       "      <td>...</td>\n",
       "    </tr>\n",
       "    <tr>\n",
       "      <th>0</th>\n",
       "      <td>painting_05130.jpg</td>\n",
       "      <td>450.0</td>\n",
       "      <td>500.0</td>\n",
       "      <td>RGB</td>\n",
       "      <td>Painting</td>\n",
       "      <td>painting_05130</td>\n",
       "    </tr>\n",
       "    <tr>\n",
       "      <th>0</th>\n",
       "      <td>painting_06799.jpg</td>\n",
       "      <td>715.0</td>\n",
       "      <td>944.0</td>\n",
       "      <td>RGB</td>\n",
       "      <td>Painting</td>\n",
       "      <td>painting_06799</td>\n",
       "    </tr>\n",
       "    <tr>\n",
       "      <th>0</th>\n",
       "      <td>painting_06978.jpg</td>\n",
       "      <td>837.0</td>\n",
       "      <td>1057.0</td>\n",
       "      <td>RGB</td>\n",
       "      <td>Painting</td>\n",
       "      <td>painting_06978</td>\n",
       "    </tr>\n",
       "    <tr>\n",
       "      <th>0</th>\n",
       "      <td>painting_05481.jpg</td>\n",
       "      <td>1666.0</td>\n",
       "      <td>1301.0</td>\n",
       "      <td>RGB</td>\n",
       "      <td>Painting</td>\n",
       "      <td>painting_05481</td>\n",
       "    </tr>\n",
       "    <tr>\n",
       "      <th>0</th>\n",
       "      <td>painting_02249.jpg</td>\n",
       "      <td>578.0</td>\n",
       "      <td>800.0</td>\n",
       "      <td>RGB</td>\n",
       "      <td>Painting</td>\n",
       "      <td>painting_02249</td>\n",
       "    </tr>\n",
       "  </tbody>\n",
       "</table>\n",
       "<p>41406 rows × 6 columns</p>\n",
       "</div>"
      ],
      "text/plain": [
       "                FileName   Width  Height Mode       Label   FileWithNewName\n",
       "0   schematics_08655.jpg   481.0  1787.0  RGB  Schematics  schematics_08655\n",
       "0   schematics_03882.jpg   367.0   394.0  RGB  Schematics  schematics_03882\n",
       "0   schematics_00131.jpg   160.0   160.0  RGB  Schematics  schematics_00131\n",
       "0   schematics_06430.jpg   934.0   355.0  RGB  Schematics  schematics_06430\n",
       "0   schematics_05999.jpg   573.0   422.0  RGB  Schematics  schematics_05999\n",
       "..                   ...     ...     ...  ...         ...               ...\n",
       "0     painting_05130.jpg   450.0   500.0  RGB    Painting    painting_05130\n",
       "0     painting_06799.jpg   715.0   944.0  RGB    Painting    painting_06799\n",
       "0     painting_06978.jpg   837.0  1057.0  RGB    Painting    painting_06978\n",
       "0     painting_05481.jpg  1666.0  1301.0  RGB    Painting    painting_05481\n",
       "0     painting_02249.jpg   578.0   800.0  RGB    Painting    painting_02249\n",
       "\n",
       "[41406 rows x 6 columns]"
      ]
     },
     "execution_count": 11,
     "metadata": {},
     "output_type": "execute_result"
    }
   ],
   "source": [
    "pictures[\"FileWithNewName\"] = np.where(\n",
    "    pictures[\"FileWithNewName\"].apply(fileNameLabel) == pictures[\"Label\"].apply(lower),\n",
    "    pictures[\"FileWithNewName\"],\n",
    "    pictures['Label'].apply(lower) +\"_\"+ pictures['FileWithNewName']\n",
    ")\n",
    "pictures"
   ]
  },
  {
   "cell_type": "markdown",
   "id": "10fca71e",
   "metadata": {},
   "source": [
    "### *Canaux*\n",
    "En affichant un rapport de tous les types de canaux qui compose les images du dataset, nous observons plusieurs Modes de canaux."
   ]
  },
  {
   "cell_type": "code",
   "execution_count": 12,
   "id": "7b920ba4",
   "metadata": {
    "scrolled": true
   },
   "outputs": [
    {
     "data": {
      "text/plain": [
       "RGB     40304\n",
       "L        1091\n",
       "RGBA        5\n",
       "P           5\n",
       "CMYK        1\n",
       "Name: Mode, dtype: int64"
      ]
     },
     "execution_count": 12,
     "metadata": {},
     "output_type": "execute_result"
    }
   ],
   "source": [
    "pictures[\"Mode\"].value_counts()"
   ]
  },
  {
   "cell_type": "markdown",
   "id": "35639073",
   "metadata": {},
   "source": [
    "Les images du dataset contiennent toute palette de couleur suivante :\n",
    "\n",
    "| Modes | Représentation |\n",
    "| :------------: | :------------: |\n",
    "| RGB | couleurs |\n",
    "| L | noir et blanc |\n",
    "| RGBA | couleurs avec transparences |\n",
    "| P | couleur avec un autre palette |\n",
    "| CMYK | couleur primaire |\n"
   ]
  },
  {
   "cell_type": "markdown",
   "id": "973f8c3b",
   "metadata": {},
   "source": [
    "Lors de la création du dataset corigé, nous allons convertir les images en canaux \"RGB\" avant de les sauvegarder."
   ]
  },
  {
   "cell_type": "markdown",
   "id": "092421ab",
   "metadata": {},
   "source": [
    "### *Tailles des images*\n",
    "Certaines images sont trop petites, cela ne permet pas d'obtenir des caractéristiques précise pour trier les photographies des peintures, schémas, etc..."
   ]
  },
  {
   "cell_type": "code",
   "execution_count": 13,
   "id": "fe1ad9a6",
   "metadata": {},
   "outputs": [
    {
     "data": {
      "text/html": [
       "<div>\n",
       "<style scoped>\n",
       "    .dataframe tbody tr th:only-of-type {\n",
       "        vertical-align: middle;\n",
       "    }\n",
       "\n",
       "    .dataframe tbody tr th {\n",
       "        vertical-align: top;\n",
       "    }\n",
       "\n",
       "    .dataframe thead th {\n",
       "        text-align: right;\n",
       "    }\n",
       "</style>\n",
       "<table border=\"1\" class=\"dataframe\">\n",
       "  <thead>\n",
       "    <tr style=\"text-align: right;\">\n",
       "      <th></th>\n",
       "      <th>FileName</th>\n",
       "      <th>Width</th>\n",
       "      <th>Height</th>\n",
       "      <th>Mode</th>\n",
       "      <th>Label</th>\n",
       "      <th>FileWithNewName</th>\n",
       "    </tr>\n",
       "  </thead>\n",
       "  <tbody>\n",
       "    <tr>\n",
       "      <th>0</th>\n",
       "      <td>schematics_05841.jpg</td>\n",
       "      <td>37.0</td>\n",
       "      <td>3.0</td>\n",
       "      <td>RGB</td>\n",
       "      <td>Schematics</td>\n",
       "      <td>schematics_05841</td>\n",
       "    </tr>\n",
       "    <tr>\n",
       "      <th>0</th>\n",
       "      <td>schematics_05830.jpg</td>\n",
       "      <td>1.0</td>\n",
       "      <td>1.0</td>\n",
       "      <td>L</td>\n",
       "      <td>Schematics</td>\n",
       "      <td>schematics_05830</td>\n",
       "    </tr>\n",
       "    <tr>\n",
       "      <th>0</th>\n",
       "      <td>schematics_08243.jpg</td>\n",
       "      <td>3.0</td>\n",
       "      <td>36.0</td>\n",
       "      <td>RGB</td>\n",
       "      <td>Schematics</td>\n",
       "      <td>schematics_08243</td>\n",
       "    </tr>\n",
       "    <tr>\n",
       "      <th>0</th>\n",
       "      <td>schematics_03455.jpg</td>\n",
       "      <td>12.0</td>\n",
       "      <td>3.0</td>\n",
       "      <td>RGB</td>\n",
       "      <td>Schematics</td>\n",
       "      <td>schematics_03455</td>\n",
       "    </tr>\n",
       "    <tr>\n",
       "      <th>0</th>\n",
       "      <td>schematics_05541.jpg</td>\n",
       "      <td>37.0</td>\n",
       "      <td>3.0</td>\n",
       "      <td>RGB</td>\n",
       "      <td>Schematics</td>\n",
       "      <td>schematics_05541</td>\n",
       "    </tr>\n",
       "    <tr>\n",
       "      <th>...</th>\n",
       "      <td>...</td>\n",
       "      <td>...</td>\n",
       "      <td>...</td>\n",
       "      <td>...</td>\n",
       "      <td>...</td>\n",
       "      <td>...</td>\n",
       "    </tr>\n",
       "    <tr>\n",
       "      <th>0</th>\n",
       "      <td>schematics_07097.jpg</td>\n",
       "      <td>8.0</td>\n",
       "      <td>3.0</td>\n",
       "      <td>RGB</td>\n",
       "      <td>Schematics</td>\n",
       "      <td>schematics_07097</td>\n",
       "    </tr>\n",
       "    <tr>\n",
       "      <th>0</th>\n",
       "      <td>schematics_04802.jpg</td>\n",
       "      <td>77.0</td>\n",
       "      <td>3.0</td>\n",
       "      <td>RGB</td>\n",
       "      <td>Schematics</td>\n",
       "      <td>schematics_04802</td>\n",
       "    </tr>\n",
       "    <tr>\n",
       "      <th>0</th>\n",
       "      <td>schematics_08764.jpg</td>\n",
       "      <td>72.0</td>\n",
       "      <td>3.0</td>\n",
       "      <td>RGB</td>\n",
       "      <td>Schematics</td>\n",
       "      <td>schematics_08764</td>\n",
       "    </tr>\n",
       "    <tr>\n",
       "      <th>0</th>\n",
       "      <td>schematics_08017.jpg</td>\n",
       "      <td>47.0</td>\n",
       "      <td>3.0</td>\n",
       "      <td>RGB</td>\n",
       "      <td>Schematics</td>\n",
       "      <td>schematics_08017</td>\n",
       "    </tr>\n",
       "    <tr>\n",
       "      <th>0</th>\n",
       "      <td>schematics_08326.jpg</td>\n",
       "      <td>19.0</td>\n",
       "      <td>3.0</td>\n",
       "      <td>RGB</td>\n",
       "      <td>Schematics</td>\n",
       "      <td>schematics_08326</td>\n",
       "    </tr>\n",
       "  </tbody>\n",
       "</table>\n",
       "<p>409 rows × 6 columns</p>\n",
       "</div>"
      ],
      "text/plain": [
       "                FileName  Width  Height Mode       Label   FileWithNewName\n",
       "0   schematics_05841.jpg   37.0     3.0  RGB  Schematics  schematics_05841\n",
       "0   schematics_05830.jpg    1.0     1.0    L  Schematics  schematics_05830\n",
       "0   schematics_08243.jpg    3.0    36.0  RGB  Schematics  schematics_08243\n",
       "0   schematics_03455.jpg   12.0     3.0  RGB  Schematics  schematics_03455\n",
       "0   schematics_05541.jpg   37.0     3.0  RGB  Schematics  schematics_05541\n",
       "..                   ...    ...     ...  ...         ...               ...\n",
       "0   schematics_07097.jpg    8.0     3.0  RGB  Schematics  schematics_07097\n",
       "0   schematics_04802.jpg   77.0     3.0  RGB  Schematics  schematics_04802\n",
       "0   schematics_08764.jpg   72.0     3.0  RGB  Schematics  schematics_08764\n",
       "0   schematics_08017.jpg   47.0     3.0  RGB  Schematics  schematics_08017\n",
       "0   schematics_08326.jpg   19.0     3.0  RGB  Schematics  schematics_08326\n",
       "\n",
       "[409 rows x 6 columns]"
      ]
     },
     "execution_count": 13,
     "metadata": {},
     "output_type": "execute_result"
    }
   ],
   "source": [
    "pictures[(pictures[\"Width\"] < bias_x) | (pictures[\"Height\"] < bias_y)]"
   ]
  },
  {
   "cell_type": "markdown",
   "id": "ef9f00cd",
   "metadata": {},
   "source": [
    "Pour prendre en compte uniquement les images qui sont supérieurs au biais défini à 10, nous allons écraser la [DataFrame](https://pandas.pydata.org/pandas-docs/stable/reference/api/pandas.DataFrame.html) avec les images ayant les bonnes dimensions."
   ]
  },
  {
   "cell_type": "code",
   "execution_count": 14,
   "id": "1600cc4a",
   "metadata": {},
   "outputs": [],
   "source": [
    "pictures = pictures[(pictures[\"Width\"] >= bias_x) & (pictures[\"Height\"] >= bias_y)]"
   ]
  },
  {
   "cell_type": "markdown",
   "id": "cc23033c",
   "metadata": {},
   "source": [
    "De plus, les images ont des tailles différentes, nous allons devoir redimensionner toutes les images à la même taille."
   ]
  },
  {
   "cell_type": "code",
   "execution_count": 15,
   "id": "e81b62e1",
   "metadata": {},
   "outputs": [
    {
     "data": {
      "text/html": [
       "<div>\n",
       "<style scoped>\n",
       "    .dataframe tbody tr th:only-of-type {\n",
       "        vertical-align: middle;\n",
       "    }\n",
       "\n",
       "    .dataframe tbody tr th {\n",
       "        vertical-align: top;\n",
       "    }\n",
       "\n",
       "    .dataframe thead th {\n",
       "        text-align: right;\n",
       "    }\n",
       "</style>\n",
       "<table border=\"1\" class=\"dataframe\">\n",
       "  <thead>\n",
       "    <tr style=\"text-align: right;\">\n",
       "      <th></th>\n",
       "      <th>Width</th>\n",
       "      <th>Height</th>\n",
       "    </tr>\n",
       "  </thead>\n",
       "  <tbody>\n",
       "    <tr>\n",
       "      <th>count</th>\n",
       "      <td>40997.000000</td>\n",
       "      <td>40997.000000</td>\n",
       "    </tr>\n",
       "    <tr>\n",
       "      <th>mean</th>\n",
       "      <td>748.986414</td>\n",
       "      <td>732.495158</td>\n",
       "    </tr>\n",
       "    <tr>\n",
       "      <th>std</th>\n",
       "      <td>513.943757</td>\n",
       "      <td>505.800053</td>\n",
       "    </tr>\n",
       "    <tr>\n",
       "      <th>min</th>\n",
       "      <td>11.000000</td>\n",
       "      <td>12.000000</td>\n",
       "    </tr>\n",
       "    <tr>\n",
       "      <th>25%</th>\n",
       "      <td>522.000000</td>\n",
       "      <td>473.000000</td>\n",
       "    </tr>\n",
       "    <tr>\n",
       "      <th>50%</th>\n",
       "      <td>612.000000</td>\n",
       "      <td>640.000000</td>\n",
       "    </tr>\n",
       "    <tr>\n",
       "      <th>75%</th>\n",
       "      <td>795.000000</td>\n",
       "      <td>842.000000</td>\n",
       "    </tr>\n",
       "    <tr>\n",
       "      <th>max</th>\n",
       "      <td>10200.000000</td>\n",
       "      <td>9894.000000</td>\n",
       "    </tr>\n",
       "  </tbody>\n",
       "</table>\n",
       "</div>"
      ],
      "text/plain": [
       "              Width        Height\n",
       "count  40997.000000  40997.000000\n",
       "mean     748.986414    732.495158\n",
       "std      513.943757    505.800053\n",
       "min       11.000000     12.000000\n",
       "25%      522.000000    473.000000\n",
       "50%      612.000000    640.000000\n",
       "75%      795.000000    842.000000\n",
       "max    10200.000000   9894.000000"
      ]
     },
     "execution_count": 15,
     "metadata": {},
     "output_type": "execute_result"
    }
   ],
   "source": [
    "pictures[[\"Width\", \"Height\"]].describe()"
   ]
  },
  {
   "cell_type": "markdown",
   "id": "190d2117",
   "metadata": {},
   "source": [
    "Pour choisir la taille commune de toutes les images, nous cherchons la puissance de 2 la plus proche de la médiane."
   ]
  },
  {
   "cell_type": "code",
   "execution_count": 16,
   "id": "3d6e3ddc",
   "metadata": {},
   "outputs": [
    {
     "data": {
      "text/plain": [
       "(512, 512)"
      ]
     },
     "execution_count": 16,
     "metadata": {},
     "output_type": "execute_result"
    }
   ],
   "source": [
    "def closest_pow(x):    \n",
    "    p = 1\n",
    "    while(p < x):\n",
    "        p = p * 2\n",
    "    return int(p) if (p - x) < ((x - p) / 2 ) else int(p/2)\n",
    "\n",
    "median = pictures[[\"Width\", \"Height\"]].median()\n",
    "newSize = (closest_pow(median[0]), closest_pow(median[1]))\n",
    "newSize"
   ]
  },
  {
   "cell_type": "markdown",
   "id": "40e3b296",
   "metadata": {},
   "source": [
    "Avec les calculs que nous venons d'effectuer, nous allons redimensionner les images à une taille de 512 pixels sur 512 pixels. Or 512 pixels est trop grand pour beaucoup de réseaux de neurones."
   ]
  },
  {
   "cell_type": "code",
   "execution_count": 17,
   "id": "f9d56c58",
   "metadata": {},
   "outputs": [],
   "source": [
    "newSize = (128, 128)"
   ]
  },
  {
   "cell_type": "markdown",
   "id": "d82d3ee7",
   "metadata": {},
   "source": [
    "### *Création du dataset corrigé*\n",
    "Le code python suivant, applique les préparations pour ne plus avoir les erreurs dans un dataset corrigé."
   ]
  },
  {
   "cell_type": "code",
   "execution_count": 18,
   "id": "57b590cd",
   "metadata": {},
   "outputs": [],
   "source": [
    "if os.path.exists(path_datasets_corrected):\n",
    "    shutil.rmtree(path_datasets_corrected)\n",
    "os.mkdir(path_datasets_corrected, 0o777)\n",
    "\n",
    "for index, row in pictures.iterrows():\n",
    "    image = Image.open(f\"{path_datasets}/{row['Label']}/{row['FileName']}\")\n",
    "    \n",
    "    # On convertit toutes images en RGB pour avoir le même nombre de canaux.\n",
    "    image = image.convert('RGB')\n",
    "    \n",
    "    # Redimensionnement de l'image. \n",
    "    image = image.resize(newSize)\n",
    "    \n",
    "    if os.path.exists(f\"{path_datasets_corrected}/{row['Label']}\") == False:\n",
    "        os.mkdir(f\"{path_datasets_corrected}/{row['Label']}\", 0o777)\n",
    "    \n",
    "    # On sauvegarde toutes les images au format .PNG.\n",
    "    image.save(f\"{path_datasets_corrected}/{row['Label']}/{row['FileWithNewName']}.png\", \"PNG\")"
   ]
  },
  {
   "cell_type": "markdown",
   "id": "b64d26c2",
   "metadata": {},
   "source": [
    "## __Préparation des datasets final__\n",
    "Nous avons deux datasets à générer pour la classification multiclasse (les 5 labels du datasets) et binaire (images | pas image). Nous avons deux datasets à générer pour la classification multiclasse (les 5 labels du datasets) et binaire (images | pas image)."
   ]
  },
  {
   "cell_type": "code",
   "execution_count": 19,
   "id": "3c7ba98a",
   "metadata": {},
   "outputs": [],
   "source": [
    "import tensorflow as tf"
   ]
  },
  {
   "cell_type": "code",
   "execution_count": 20,
   "id": "b87ac160",
   "metadata": {},
   "outputs": [],
   "source": [
    "path_dataset = \"../Datasets/TouNum/dataset/\""
   ]
  },
  {
   "cell_type": "code",
   "execution_count": 21,
   "id": "798803ad",
   "metadata": {},
   "outputs": [],
   "source": [
    "if os.path.exists(path_dataset):\n",
    "    shutil.rmtree(path_dataset)\n",
    "os.mkdir(path_dataset, 0o777)"
   ]
  },
  {
   "cell_type": "markdown",
   "id": "4affb535",
   "metadata": {},
   "source": [
    "### *Procédure de création des datasets*\n",
    "Pour créer les deux datasets, nous exploitations la méthode \"image_dataset_from_directory\" de tenserflow qui va créer deux sets (train et test), avec un ratio de 20% pour le test set. Ces deux sets seront ensuite enregistrés dans les dossiers (binary et multi-class) du dataset final."
   ]
  },
  {
   "cell_type": "code",
   "execution_count": 22,
   "id": "aa36967d",
   "metadata": {},
   "outputs": [],
   "source": [
    "def saveDataset(path_src, path_dest):\n",
    "    if os.path.exists(f\"{path_dest}\") == False:\n",
    "        train_set = tf.keras.preprocessing.image_dataset_from_directory(\n",
    "            path_src,\n",
    "            validation_split=0.2,\n",
    "            subset=\"training\",\n",
    "            seed=42,\n",
    "            labels=\"inferred\",\n",
    "            image_size=newSize\n",
    "        )\n",
    "\n",
    "        test_set = tf.keras.preprocessing.image_dataset_from_directory(\n",
    "            path_src,\n",
    "            validation_split=0.2,\n",
    "            subset=\"validation\",\n",
    "            seed=42,\n",
    "            labels=\"inferred\",\n",
    "            image_size=newSize\n",
    "        )\n",
    "\n",
    "        os.mkdir(f\"{path_dest}\")\n",
    "        os.mkdir(f\"{path_dest}/train\")        \n",
    "        os.mkdir(f\"{path_dest}/test\")\n",
    "\n",
    "        for class_name in test_set.class_names:\n",
    "            os.mkdir(f\"{path_dest}/train/{class_name}\")        \n",
    "            os.mkdir(f\"{path_dest}/test/{class_name}\")\n",
    "\n",
    "        for file in train_set.file_paths:\n",
    "            shutil.copyfile(\n",
    "                file,\n",
    "                f\"{path_dest}/train/{file.replace(path_src, '')}\"\n",
    "            )\n",
    "\n",
    "        for file in test_set.file_paths:\n",
    "            shutil.copyfile(\n",
    "                file,\n",
    "                f\"{path_dest}/test/{file.replace(path_src, '')}\"\n",
    "            )"
   ]
  },
  {
   "cell_type": "markdown",
   "id": "5ff565f6",
   "metadata": {},
   "source": [
    "### *Dataset multiclasse*\n",
    "Le dataset multiclasse reprend toutes les images classées par les labels créés par *TouNum*.\n",
    "\n",
    "Nous utiliser les procédures déclarées précédemment à suivre pour créer le dataset."
   ]
  },
  {
   "cell_type": "code",
   "execution_count": 23,
   "id": "93503a5e",
   "metadata": {},
   "outputs": [],
   "source": [
    "path_multiclass_dataset = f\"{path_dataset}multi-class/\""
   ]
  },
  {
   "cell_type": "code",
   "execution_count": 24,
   "id": "2bb7f2f2",
   "metadata": {},
   "outputs": [
    {
     "name": "stdout",
     "output_type": "stream",
     "text": [
      "Found 40997 files belonging to 5 classes.\n",
      "Using 32798 files for training.\n"
     ]
    },
    {
     "name": "stderr",
     "output_type": "stream",
     "text": [
      "2022-10-06 18:35:50.497610: I tensorflow/stream_executor/cuda/cuda_gpu_executor.cc:936] successful NUMA node read from SysFS had negative value (-1), but there must be at least one NUMA node, so returning NUMA node zero\n",
      "2022-10-06 18:35:50.543136: I tensorflow/stream_executor/cuda/cuda_gpu_executor.cc:936] successful NUMA node read from SysFS had negative value (-1), but there must be at least one NUMA node, so returning NUMA node zero\n",
      "2022-10-06 18:35:50.543303: I tensorflow/stream_executor/cuda/cuda_gpu_executor.cc:936] successful NUMA node read from SysFS had negative value (-1), but there must be at least one NUMA node, so returning NUMA node zero\n",
      "2022-10-06 18:35:50.544385: I tensorflow/core/platform/cpu_feature_guard.cc:151] This TensorFlow binary is optimized with oneAPI Deep Neural Network Library (oneDNN) to use the following CPU instructions in performance-critical operations:  AVX2 FMA\n",
      "To enable them in other operations, rebuild TensorFlow with the appropriate compiler flags.\n",
      "2022-10-06 18:35:50.545303: I tensorflow/stream_executor/cuda/cuda_gpu_executor.cc:936] successful NUMA node read from SysFS had negative value (-1), but there must be at least one NUMA node, so returning NUMA node zero\n",
      "2022-10-06 18:35:50.545499: I tensorflow/stream_executor/cuda/cuda_gpu_executor.cc:936] successful NUMA node read from SysFS had negative value (-1), but there must be at least one NUMA node, so returning NUMA node zero\n",
      "2022-10-06 18:35:50.545663: I tensorflow/stream_executor/cuda/cuda_gpu_executor.cc:936] successful NUMA node read from SysFS had negative value (-1), but there must be at least one NUMA node, so returning NUMA node zero\n",
      "2022-10-06 18:35:51.076386: I tensorflow/stream_executor/cuda/cuda_gpu_executor.cc:936] successful NUMA node read from SysFS had negative value (-1), but there must be at least one NUMA node, so returning NUMA node zero\n",
      "2022-10-06 18:35:51.076562: I tensorflow/stream_executor/cuda/cuda_gpu_executor.cc:936] successful NUMA node read from SysFS had negative value (-1), but there must be at least one NUMA node, so returning NUMA node zero\n",
      "2022-10-06 18:35:51.076699: I tensorflow/stream_executor/cuda/cuda_gpu_executor.cc:936] successful NUMA node read from SysFS had negative value (-1), but there must be at least one NUMA node, so returning NUMA node zero\n",
      "2022-10-06 18:35:51.076997: I tensorflow/core/common_runtime/gpu/gpu_device.cc:1525] Created device /job:localhost/replica:0/task:0/device:GPU:0 with 3725 MB memory:  -> device: 0, name: NVIDIA GeForce RTX 3060 Laptop GPU, pci bus id: 0000:01:00.0, compute capability: 8.6\n"
     ]
    },
    {
     "name": "stdout",
     "output_type": "stream",
     "text": [
      "Found 40997 files belonging to 5 classes.\n",
      "Using 8199 files for validation.\n"
     ]
    }
   ],
   "source": [
    "saveDataset(path_datasets_corrected, path_multiclass_dataset)"
   ]
  },
  {
   "cell_type": "markdown",
   "id": "109594e4",
   "metadata": {},
   "source": [
    "### *Dataset binaire*\n",
    "Le dataset binaire reprend toutes les images labellisées comme étant des photographies d'un côté et les photographie par les autres labels de l'autre côté.\n",
    "\n",
    "Nous allons devoir, tous d'abord, en reprenant les images du datasets corrigées, les remettre en deux catégories : \"Photo\" et \"NoPhoto\".\n",
    "\n",
    "Puis, nous reproduirons la procédure précédente sur le dataset binaire."
   ]
  },
  {
   "cell_type": "code",
   "execution_count": 25,
   "id": "0c25358e",
   "metadata": {},
   "outputs": [],
   "source": [
    "path_binary_dataset_correted = \"../Datasets/TouNum/datasets_binary_corrected/\"\n",
    "path_binary_dataset = f\"{path_dataset}binary/\""
   ]
  },
  {
   "cell_type": "code",
   "execution_count": 26,
   "id": "5cfde4e0",
   "metadata": {},
   "outputs": [],
   "source": [
    "if os.path.exists(path_binary_dataset_correted):\n",
    "    shutil.rmtree(path_binary_dataset_correted)\n",
    "os.mkdir(path_binary_dataset_correted, 0o777)"
   ]
  },
  {
   "cell_type": "code",
   "execution_count": 27,
   "id": "6b071733",
   "metadata": {},
   "outputs": [],
   "source": [
    "shutil.copytree(\n",
    "    f\"{path_datasets_corrected}/Photo\",\n",
    "    f\"{path_binary_dataset_correted}/Photo\",\n",
    "    dirs_exist_ok=True\n",
    ")\n",
    "\n",
    "for class_name in [\"Painting\", \"Schematics\", \"Sketch\", \"Text\"]:\n",
    "    shutil.copytree(\n",
    "        f\"{path_datasets_corrected}/{class_name}\",\n",
    "        f\"{path_binary_dataset_correted}/NoPhoto\",\n",
    "        dirs_exist_ok=True\n",
    "    )    "
   ]
  },
  {
   "cell_type": "code",
   "execution_count": 28,
   "id": "4c104e84",
   "metadata": {},
   "outputs": [
    {
     "name": "stdout",
     "output_type": "stream",
     "text": [
      "Found 40997 files belonging to 2 classes.\n",
      "Using 32798 files for training.\n",
      "Found 40997 files belonging to 2 classes.\n",
      "Using 8199 files for validation.\n"
     ]
    }
   ],
   "source": [
    "saveDataset(path_binary_dataset_correted, path_binary_dataset)"
   ]
  },
  {
   "cell_type": "markdown",
   "id": "c1a53ead",
   "metadata": {},
   "source": [
    "### *Procédure de load des datasets*"
   ]
  },
  {
   "cell_type": "code",
   "execution_count": 29,
   "id": "8ed0377c",
   "metadata": {},
   "outputs": [],
   "source": [
    "def loadDataSet(path_datasets, size):\n",
    "    return (\n",
    "        tf.keras.preprocessing.image_dataset_from_directory(\n",
    "          f\"{path_datasets}/train/\",\n",
    "          validation_split = 0.2,\n",
    "          subset = \"training\",\n",
    "          seed = 42,\n",
    "          labels = \"inferred\",\n",
    "          image_size = size\n",
    "        ),\n",
    "        tf.keras.preprocessing.image_dataset_from_directory(\n",
    "          f\"{path_datasets}/train/\",\n",
    "          validation_split = 0.2,\n",
    "          subset = \"validation\",\n",
    "          seed = 42,\n",
    "          labels = \"inferred\",\n",
    "          image_size = size\n",
    "        ),\n",
    "        tf.keras.preprocessing.image_dataset_from_directory(\n",
    "            f\"{path_datasets}/test/\",\n",
    "            labels = \"inferred\"\n",
    "        )\n",
    "    )"
   ]
  },
  {
   "cell_type": "code",
   "execution_count": 30,
   "id": "0dd3fa00",
   "metadata": {},
   "outputs": [
    {
     "name": "stdout",
     "output_type": "stream",
     "text": [
      "Found 32798 files belonging to 2 classes.\n",
      "Using 26239 files for training.\n",
      "Found 32798 files belonging to 2 classes.\n",
      "Using 6559 files for validation.\n",
      "Found 8199 files belonging to 2 classes.\n"
     ]
    }
   ],
   "source": [
    "train, validate, test = loadDataSet(\"../Datasets/TouNum/dataset/binary\", (128, 128))"
   ]
  },
  {
   "cell_type": "code",
   "execution_count": 31,
   "id": "f4029d82",
   "metadata": {},
   "outputs": [
    {
     "name": "stdout",
     "output_type": "stream",
     "text": [
      "Found 32798 files belonging to 5 classes.\n",
      "Using 26239 files for training.\n",
      "Found 32798 files belonging to 5 classes.\n",
      "Using 6559 files for validation.\n",
      "Found 8199 files belonging to 5 classes.\n"
     ]
    }
   ],
   "source": [
    "train, validate, test = loadDataSet(\"../Datasets/TouNum/dataset/multi-class\", (128, 128))"
   ]
  }
 ],
 "metadata": {
  "kernelspec": {
   "display_name": "Python 3 (ipykernel)",
   "language": "python",
   "name": "python3"
  },
  "language_info": {
   "codemirror_mode": {
    "name": "ipython",
    "version": 3
   },
   "file_extension": ".py",
   "mimetype": "text/x-python",
   "name": "python",
   "nbconvert_exporter": "python",
   "pygments_lexer": "ipython3",
   "version": "3.9.7"
  }
 },
 "nbformat": 4,
 "nbformat_minor": 5
}
