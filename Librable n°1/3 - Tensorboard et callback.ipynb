{
 "cells": [
  {
   "cell_type": "markdown",
   "id": "cbbe31bf",
   "metadata": {},
   "source": [
    "# __Tensorboard et callback__\n",
    "---"
   ]
  },
  {
   "cell_type": "markdown",
   "id": "f3a4a429",
   "metadata": {},
   "source": [
    "## __Les Callback__\n",
    "Les [Callback](https://www.tensorflow.org/guide/keras/custom_callback) sont des moyens de customiser le comportement d'un modèle durant les phases d'évaluations.\n",
    "<br/><br/>\n",
    "Dans notre cas, nous avons décidé de les utiliser pour :\n",
    "- Sauvegarder des informations pour [Tensorboard](#Tensorboard).\n",
    "- Sauvegardes des poids.\n",
    "- Stopper l'entrainement (Early stopping).\n",
    "- Création de matrice de confusion."
   ]
  },
  {
   "cell_type": "code",
   "execution_count": 1,
   "id": "af4f86e2",
   "metadata": {},
   "outputs": [],
   "source": [
    "import tensorflow as tf\n",
    "import datetime\n",
    "from tensorflow import keras"
   ]
  },
  {
   "cell_type": "markdown",
   "id": "444df661",
   "metadata": {},
   "source": [
    "### *Sauvegarder des informations pour Tensorboard*\n",
    "Le callback [TensorBoard](https://www.tensorflow.org/api_docs/python/tf/keras/callbacks/TensorBoard) vas enregistrer des informations qui vont pemettre à Tenserboard de construire les courbes de progressions de la précision et de la perte."
   ]
  },
  {
   "cell_type": "code",
   "execution_count": 2,
   "id": "73d8c656",
   "metadata": {},
   "outputs": [],
   "source": [
    "tensorboard_callback = tf.keras.callbacks.TensorBoard(\n",
    "    log_dir = f\"logs/fit/{datetime.datetime.now().strftime('%Y%m%d-%H%M%S')}\",\n",
    "    histogram_freq = 1\n",
    ")"
   ]
  },
  {
   "cell_type": "markdown",
   "id": "b76b0e82",
   "metadata": {},
   "source": [
    "### *Sauvegardes des poids*\n",
    "Le callback [ModelCheckpoint](https://www.tensorflow.org/api_docs/python/tf/keras/callbacks/ModelCheckpoint) garde en mémoire le poids des modèles. Ils pourront donc être rechargés sur un modèle de même structure à la prochaine exécutions. "
   ]
  },
  {
   "cell_type": "code",
   "execution_count": 3,
   "id": "1615726f",
   "metadata": {},
   "outputs": [],
   "source": [
    "cp_callback = tf.keras.callbacks.ModelCheckpoint(\n",
    "    filepath = \"logs/weight/cp.ckpt\",\n",
    "    monitor = \"val_loss\",\n",
    "    save_weights_only = True,\n",
    "    save_best_only = True,\n",
    "    verbose = 1\n",
    ")"
   ]
  },
  {
   "cell_type": "markdown",
   "id": "87f01f14",
   "metadata": {},
   "source": [
    "### *Stopper l'entrainement (Early stopping)*\n",
    "Le callback [EarlyStopping](https://www.tensorflow.org/api_docs/python/tf/keras/callbacks/EarlyStopping) va, afin d'éviter le sur-apprentissage, limiter le nombre d'époques. Dès qu'il n'y a pas de progrès pendant un nombre d'époques supérieur à la patience, on se trouve face à un sur-apprentissage et on arrête l'exécution."
   ]
  },
  {
   "cell_type": "code",
   "execution_count": 4,
   "id": "36b79155",
   "metadata": {},
   "outputs": [],
   "source": [
    "early_stop_callback = tf.keras.callbacks.EarlyStopping(\n",
    "    monitor='val_loss',\n",
    "    min_delta=0,\n",
    "    patience=3,\n",
    "    verbose=1,\n",
    "    mode='auto',\n",
    "    baseline=None,\n",
    "    restore_best_weights=False\n",
    ")"
   ]
  },
  {
   "cell_type": "markdown",
   "id": "41258f8a",
   "metadata": {},
   "source": [
    "### *Création de matrice de confusion*\n",
    "Ici, on construit une matrice de confusion entre chaque époque avec sklearn qui est convertie en png pour la sauvegarder puis l'afficher dans Tensorboard.\n",
    "\n",
    "Code basé sur le travail de Vincent Havard."
   ]
  },
  {
   "cell_type": "code",
   "execution_count": 5,
   "id": "ac5d496d",
   "metadata": {},
   "outputs": [],
   "source": [
    "#fonction utiles\n",
    "def plot_to_image(figure):\n",
    "    \"\"\"Converts the matplotlib plot specified by 'figure' to a PNG image and\n",
    "    returns it. The supplied figure is closed and inaccessible after this call.\"\"\"\n",
    "    # Save the plot to a PNG in memory.\n",
    "    buf = io.BytesIO()\n",
    "    plt.savefig(buf, format='png')\n",
    "    # Closing the figure prevents it from being displayed directly inside\n",
    "    # the notebook.\n",
    "    plt.close(figure)\n",
    "    buf.seek(0)\n",
    "    # Convert PNG buffer to TF image\n",
    "    image = tf.image.decode_png(buf.getvalue(), channels=4)\n",
    "    # Add the batch dimension\n",
    "    image = tf.expand_dims(image, 0)\n",
    "    return image\n",
    "\n",
    "\n",
    "def plot_confusion_matrix(cm_main, class_names, figsize=(5, 5), accuracy_score=None):\n",
    "    #Crée un matplotlib plot à partir d'une matrice de confusion numérique et des labels associée\n",
    "    figure = plt.figure(figsize=figsize)\n",
    "    ax = plt.imshow(cm_main, interpolation='nearest', cmap=plt.cm.Blues)\n",
    "    str_title = \"Confusion matrix\"\n",
    "    if accuracy_score is not None:\n",
    "        str_title = str_title + f\" acc:{np.round(accuracy_score*100, decimals=3)}%\"\n",
    "    plt.title(str_title)\n",
    "    \n",
    "    plt.colorbar()\n",
    "    tick_marks = np.arange(len(class_names))\n",
    "    plt.xticks(tick_marks, class_names, rotation=45)\n",
    "    plt.yticks(tick_marks, class_names)\n",
    "\n",
    "\n",
    "\n",
    "    threshold = 0.5\n",
    "    # write labels\n",
    "    for i, j in itertools.product(range(cm_main.shape[0]), range(cm_main.shape[1])):\n",
    "        val = cm_main[i, j]\n",
    "        if val >= 0:\n",
    "            color = \"white\" if cm_main[i, j] > threshold else \"black\"\n",
    "            plt.text(j, i, cm_main[i, j], horizontalalignment=\"center\", color=color)\n",
    "\n",
    "    plt.tight_layout()\n",
    "    plt.ylabel('True label')\n",
    "    plt.xlabel('Predicted label')\n",
    "\n",
    "\n",
    "def model_to_confusion_matrix(model, x_test, y_test, class_names, plotIt = True):\n",
    "\n",
    "    y_pred_onehot = model.predict(x_test)\n",
    "    y_pred = np.argmax(y_pred_onehot, axis=1)\n",
    "    # Calculate the confusion matrix.\n",
    "    cm_norm = None\n",
    "    figure = None\n",
    "    if y_test.ndim > 1:\n",
    "        y_test = y_test.squeeze()\n",
    "\n",
    "    if y_pred.ndim > 1:\n",
    "        y_pred = y_pred.squeeze()\n",
    "\n",
    "    idx = np.unique(np.concatenate((y_test, y_pred)))\n",
    "\n",
    "    cm = sklearn.metrics.confusion_matrix(y_test, y_pred)\n",
    "\n",
    "    acc = sklearn.metrics.accuracy_score(y_test, y_pred)\n",
    "    # compute normalzed confusion matrix\n",
    "    cm_norm = sklearn.metrics.confusion_matrix(y_test, y_pred, normalize=\"true\")\n",
    "    cm_norm = np.round(cm_norm, decimals=2)\n",
    "    # print(\"cm_norm\", cm_norm)\n",
    "    if plotIt:\n",
    "        cm_main= cm_norm\n",
    "        # Log the confusion matrix as an image summary.\n",
    "        n=len(class_names)\n",
    "        figure = plot_confusion_matrix(cm_main, class_names, figsize=(n,n), accuracy_score=acc)\n",
    "    # cm, y_pred, y_pred_onehot, (optional: cm_norm, figure)\n",
    "    return cm, y_pred, y_pred_onehot, cm_norm, figure"
   ]
  },
  {
   "cell_type": "code",
   "execution_count": 6,
   "id": "917909da",
   "metadata": {},
   "outputs": [
    {
     "name": "stderr",
     "output_type": "stream",
     "text": [
      "2022-10-06 10:20:55.562458: I tensorflow/stream_executor/cuda/cuda_gpu_executor.cc:936] successful NUMA node read from SysFS had negative value (-1), but there must be at least one NUMA node, so returning NUMA node zero\n",
      "2022-10-06 10:20:55.588953: I tensorflow/stream_executor/cuda/cuda_gpu_executor.cc:936] successful NUMA node read from SysFS had negative value (-1), but there must be at least one NUMA node, so returning NUMA node zero\n",
      "2022-10-06 10:20:55.589113: I tensorflow/stream_executor/cuda/cuda_gpu_executor.cc:936] successful NUMA node read from SysFS had negative value (-1), but there must be at least one NUMA node, so returning NUMA node zero\n",
      "2022-10-06 10:20:55.590080: I tensorflow/core/platform/cpu_feature_guard.cc:151] This TensorFlow binary is optimized with oneAPI Deep Neural Network Library (oneDNN) to use the following CPU instructions in performance-critical operations:  AVX2 FMA\n",
      "To enable them in other operations, rebuild TensorFlow with the appropriate compiler flags.\n",
      "2022-10-06 10:20:55.590922: I tensorflow/stream_executor/cuda/cuda_gpu_executor.cc:936] successful NUMA node read from SysFS had negative value (-1), but there must be at least one NUMA node, so returning NUMA node zero\n",
      "2022-10-06 10:20:55.591117: I tensorflow/stream_executor/cuda/cuda_gpu_executor.cc:936] successful NUMA node read from SysFS had negative value (-1), but there must be at least one NUMA node, so returning NUMA node zero\n",
      "2022-10-06 10:20:55.591247: I tensorflow/stream_executor/cuda/cuda_gpu_executor.cc:936] successful NUMA node read from SysFS had negative value (-1), but there must be at least one NUMA node, so returning NUMA node zero\n",
      "2022-10-06 10:20:55.920121: I tensorflow/stream_executor/cuda/cuda_gpu_executor.cc:936] successful NUMA node read from SysFS had negative value (-1), but there must be at least one NUMA node, so returning NUMA node zero\n",
      "2022-10-06 10:20:55.920286: I tensorflow/stream_executor/cuda/cuda_gpu_executor.cc:936] successful NUMA node read from SysFS had negative value (-1), but there must be at least one NUMA node, so returning NUMA node zero\n",
      "2022-10-06 10:20:55.920407: I tensorflow/stream_executor/cuda/cuda_gpu_executor.cc:936] successful NUMA node read from SysFS had negative value (-1), but there must be at least one NUMA node, so returning NUMA node zero\n",
      "2022-10-06 10:20:55.920519: I tensorflow/core/common_runtime/gpu/gpu_device.cc:1525] Created device /job:localhost/replica:0/task:0/device:GPU:0 with 3459 MB memory:  -> device: 0, name: NVIDIA GeForce RTX 3060 Laptop GPU, pci bus id: 0000:01:00.0, compute capability: 8.6\n"
     ]
    }
   ],
   "source": [
    "#définition du callback perso\n",
    "class ConfusionMatrixCallback(keras.callbacks.Callback):\n",
    "    def __init__(self, x_test, y_test, class_names=None, file_writer_cm = tf.summary.create_file_writer('logs/cm')):\n",
    "        \n",
    "        self.x_test = x_test\n",
    "        self.y_test = y_test\n",
    "        self.class_names = class_names if class_names is not None else np.unique(y_test)\n",
    "        self.file_writer_cm = file_writer_cm\n",
    "        \n",
    "    def on_epoch_end(self, epoch, logs=None):\n",
    "        _, _, _, _, figure = model_to_confusion_matrix(self.model, self.x_test,self.y_test,self.class_names)\n",
    "        # Log the confusion matrix as an image summary.\n",
    "        cm_image = plot_to_image(figure)\n",
    "\n",
    "        # Log the confusion matrix as an image summary.\n",
    "        with self.file_writer_cm.as_default():\n",
    "            \n",
    "            tf.summary.image(\"Confusion Matrix\", cm_image, step=epoch)\n",
    "            self.file_writer_cm.flush()\n",
    "            print(self.file_writer_cm)"
   ]
  },
  {
   "cell_type": "markdown",
   "id": "30c3c121",
   "metadata": {},
   "source": [
    "### *Faire appels aux Callback*\n",
    "```python\n",
    "model.fit(\n",
    "  X,\n",
    "  validation_data=Y,\n",
    "  epochs=epochs,\n",
    "  callbacks=[\n",
    "      tensorboard_callback,\n",
    "      cp_callback,\n",
    "      confusionMatrix_callback,\n",
    "      early_stop_callback\n",
    "  ]\n",
    ")\n",
    "```"
   ]
  },
  {
   "cell_type": "markdown",
   "id": "d35122f4",
   "metadata": {},
   "source": [
    "## __Utilisation de Tensorboard__\n",
    "Tensorboard est utilisé afin d'afficher et sauvegarde-les statistiques des modèles lors de l'entrainement. Dans notre cas, nous allons récupérer plusieurs informations pour construire les courbes de progressions de la précision et de la perte ainsi que les matrices de confusion à la fin de chaque époque.\n",
    "<br /><br />\n",
    "Toutes ces informations seront sauvegardées dans un dossier log par l'intermédiaire de fonction de callback dont on peut fournir une liste lors de l'entrainement d'un modèle."
   ]
  },
  {
   "cell_type": "code",
   "execution_count": null,
   "id": "08bbe6fd",
   "metadata": {},
   "outputs": [],
   "source": [
    "# Load the TensorBoard notebook extension\n",
    "%load_ext tensorboard\n",
    "\n",
    "#Problème sur windows avec l'utilisation. Si lors du lancement l'affichage ne se fait pas et qu'il affiche un tensorboard\n",
    "#  existant datant de la session précédente utilisé les 2 commandes suivantes en ligne de commande\n",
    "#- taskkill /im tensorboard.exe /f\n",
    "#- del /q %TMP%\\.tensorboard-info\\*"
   ]
  },
  {
   "cell_type": "code",
   "execution_count": null,
   "id": "2436ca41",
   "metadata": {},
   "outputs": [],
   "source": [
    "# changez le chemin du dossier après logdir si besoin\n",
    "%tensorboard --logdir logs --host localhost\n",
    "\n",
    "#vous pouvez l'ouvrir dans une autre fenêtre avec l'adrresse\n",
    "# http://localhost:6006"
   ]
  }
 ],
 "metadata": {
  "kernelspec": {
   "display_name": "Python 3 (ipykernel)",
   "language": "python",
   "name": "python3"
  },
  "language_info": {
   "codemirror_mode": {
    "name": "ipython",
    "version": 3
   },
   "file_extension": ".py",
   "mimetype": "text/x-python",
   "name": "python",
   "nbconvert_exporter": "python",
   "pygments_lexer": "ipython3",
   "version": "3.9.7"
  }
 },
 "nbformat": 4,
 "nbformat_minor": 5
}
