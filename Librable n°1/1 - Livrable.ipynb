{
 "cells": [
  {
   "cell_type": "markdown",
   "id": "f16d542f",
   "metadata": {},
   "source": [
    "# __Livrable__\n",
    "---"
   ]
  },
  {
   "cell_type": "markdown",
   "id": "8c4c8f09",
   "metadata": {},
   "source": [
    "## __Sommaire__\n",
    "1. [Livrable](#Livrable)\n",
    "    * [Sommaire](#Sommaire)\n",
    "    * [Introduction](#Introduction)\n",
    "    * [Contexte](#Contexte)\n",
    "    * [Objectifs](#Objectifs)\n",
    "        - [Objectifs du projet](#Objectifs-du-projet)\n",
    "        - [Objectifs du livrable](#Objectifs-du-livrable)\n",
    "    * [Workflow](#Workflow)\n",
    "    * [Cadrage](#Cadrage)\n",
    "        - [Timeline](#Timeline)\n",
    "        - [Trello](#Trello)\n",
    "2. [Préparation des données](./2%20-%20Pr%C3%A9paration%20des%20donn%C3%A9es.ipynb#Pr%C3%A9paration-des-donn%C3%A9es)\n",
    "    * [Description du dataset](./2%20-%20Pr%C3%A9paration%20des%20donn%C3%A9es.ipynb#Description-du-dataset)\n",
    "        - [Les images du dossier \"Painting\"](./2%20-%20Pr%C3%A9paration%20des%20donn%C3%A9es.ipynb#Les-images-du-dossier-%22Painting%22)\n",
    "        - [Les images du dossier \"Photo\"](./2%20-%20Pr%C3%A9paration%20des%20donn%C3%A9es.ipynb#Les-images-du-dossier-%22Photo%22)\n",
    "        - [Les images du dossier \"Schematics\"](./2%20-%20Pr%C3%A9paration%20des%20donn%C3%A9es.ipynb#Les-images-du-dossier-%22Schematics%22)\n",
    "        - [Les images du dossier \"Sketch\"](./2%20-%20Pr%C3%A9paration%20des%20donn%C3%A9es.ipynb#Les-images-du-dossier-%22Sketch%22)\n",
    "        - [Les images du dossier \"Text\"](./2%20-%20Pr%C3%A9paration%20des%20donn%C3%A9es.ipynb#Les-images-du-dossier-%22Text%22)\n",
    "    * [Worflow](./2%20-%20Pr%C3%A9paration%20des%20donn%C3%A9es.ipynb#Worflow)\n",
    "    * [Extraction des données](./2%20-%20Pr%C3%A9paration%20des%20donn%C3%A9es.ipynb#Extraction-des-donn%C3%A9es)\n",
    "    * [Problèmes du dataset](./2%20-%20Pr%C3%A9paration%20des%20donn%C3%A9es.ipynb#Probl%C3%A8mes-du-dataset)\n",
    "        - [Préparatifs](./2%20-%20Pr%C3%A9paration%20des%20donn%C3%A9es.ipynb#Pr%C3%A9paratifs)\n",
    "        - [Erreurs sur les extensions](./2%20-%20Pr%C3%A9paration%20des%20donn%C3%A9es.ipynb#Erreurs-sur-les-extensions)\n",
    "        - [Nomenclature](./2%20-%20Pr%C3%A9paration%20des%20donn%C3%A9es.ipynb#Nomenclature)\n",
    "        - [Canaux](./2%20-%20Pr%C3%A9paration%20des%20donn%C3%A9es.ipynb#Canaux)\n",
    "        - [Tailles des images](./2%20-%20Pr%C3%A9paration%20des%20donn%C3%A9es.ipynb#Tailles-des-images)\n",
    "        - [Création du dataset corrigé](./2%20-%20Pr%C3%A9paration%20des%20donn%C3%A9es.ipynb#Cr%C3%A9ation-du-dataset-corrig%C3%A9)\n",
    "    * [Préparation des datasets finals](./2%20-%20Pr%C3%A9paration%20des%20donn%C3%A9es.ipynb#Pr%C3%A9paration-des-datasets-finals)\n",
    "        - [Procédure de création des datasets](./2%20-%20Pr%C3%A9paration%20des%20donn%C3%A9es.ipynb#Proc%C3%A9dure-de-cr%C3%A9ation-des-datasets)\n",
    "        - [Dataset multiclasse](./2%20-%20Pr%C3%A9paration%20des%20donn%C3%A9es.ipynb#Dataset-multiclasse)\n",
    "        - [Dataset binaire](./2%20-%20Pr%C3%A9paration%20des%20donn%C3%A9es.ipynb#Dataset-binaire)\n",
    "        - [Procédure de load des datasets\n",
    "](./2%20-%20Pr%C3%A9paration%20des%20donn%C3%A9es.ipynb#Proc%C3%A9dure-de-load-des-datasets)\n",
    "3. [Tensorboard et callback](./3%20-%20Tensorboard%20et%20callback.ipynb#Tensorboard-et-callback)\n",
    "    * [Les Callback](./3%20-%20Tensorboard%20et%20callback.ipynb#Les-Callback)\n",
    "        - [Sauvegarder des informations pour Tensorboard](./3%20-%20Tensorboard%20et%20callback.ipynb#Sauvegarder-des-informations-pour-Tensorboard)\n",
    "        - [Sauvegardes des poids](./3%20-%20Tensorboard%20et%20callback.ipynb#Sauvegardes-des-poids)\n",
    "        - [Stopper l'entrainement (Early stopping)](./3%20-%20Tensorboard%20et%20callback.ipynb#Stopper-l'entrainement-(Early-stopping))\n",
    "        - [Création de matrice de confusion](./3%20-%20Tensorboard%20et%20callback.ipynb#Création-de-matrice-de-confusion)\n",
    "        - [Faire appels aux Callback](./3%20-%20Tensorboard%20et%20callback.ipynb#Faire-appels-aux-Callback)\n",
    "    * [Utilisation de Tensorboard](./3%20-%20Tensorboard%20et%20callback.ipynb#Utilisation-de-Tensorboard)\n",
    "\n",
    "4. [Réseau de neurones convolutif (CNN)](./4%20-%20Modèles%20CNN.ipynb#Réseau-de-neurones-convolutif-(CNN))\n",
    "    * [Préparations](./4%20-%20Modèles%20CNN.ipynb#Préparations)\n",
    "        - [Importations](./4%20-%20Modèles%20CNN.ipynb#Importations)\n",
    "        - [TensorBoard](./4%20-%20Modèles%20CNN.ipynb#TensorBoard)\n",
    "    * [Modèle du CNN](./4%20-%20Modèles%20CNN.ipynb#Modèle-du-CNN)\n",
    "    * [Transfert learning multi-class](./4%20-%20Modèles%20CNN.ipynb#Transfert-learning-multi-class)\n",
    "    * [Modèle CNN pour une classification binaire](./4%20-%20Modèles%20CNN.ipynb#Modèle-CNN-pour-une-classification-binaire)\n",
    "    * [Modèle Transfert Learning binary](./4%20-%20Modèles%20CNN.ipynb#Modèle-Transfert-Learning-binary)\n",
    "    * [Conclusion](./4%20-%20Modèles%20CNN.ipynb#Conclusion)\n",
    "    * [Prédiction](./4%20-%20Modèles%20CNN.ipynb#Prédiction)\n",
    "5. [Autoencoder Multi-Class](./5%20-%20Modèle%20Autencoder%20classifier.ipynb#Autoencoder-Multi-Class)\n",
    "    * [Importation des bibliothèques](./5%20-%20Modèle%20Autencoder%20classifier.ipynb#Importation-des-bibliothèques)\n",
    "    * [Création des jeux de données d'entrainement, de validation et de test](./5%20-%20Modèle%20Autencoder%20classifier.ipynb#Création-des-jeux-de-données-d'entrainement,-de-validation-et-de-test)\n",
    "    * [Autoencoder](./5%20-%20Modèle%20Autencoder%20classifier.ipynb#Autoencoder)\n",
    "        - [Normalisation des données](./5%20-%20Modèle%20Autencoder%20classifier.ipynb#Normalisation-des-données)\n",
    "        - [Création de la fonction d'Autoencoder](./5%20-%20Modèle%20Autencoder%20classifier.ipynb#Création-de-la-fonction-d'Autoencoder)\n",
    "            - [Création de l'encoder](./5%20-%20Modèle%20Autencoder%20classifier.ipynb#Création-de-l'encoder)\n",
    "            - [Création du décoder](./5%20-%20Modèle%20Autencoder%20classifier.ipynb#Création-du-décoder)\n",
    "            - [Fusion de l'encoder et du décoder pour créer l'autoencoder](./5%20-%20Modèle%20Autencoder%20classifier.ipynb#Fusion-de-l'encoder-et-du-décoder-pour-créer-l'autoencoder)\n",
    "            - [Compilation](./5%20-%20Modèle%20Autencoder%20classifier.ipynb#Compilation)\n",
    "            - [Apprentissage](./5%20-%20Modèle%20Autencoder%20classifier.ipynb#Apprentissage)\n",
    "            - [Sauvegarde des poids](./5%20-%20Modèle%20Autencoder%20classifier.ipynb#Sauvegarde-des-poids)\n",
    "            - [Interprétation des résultats](./5%20-%20Modèle%20Autencoder%20classifier.ipynb#Interprétation-des-résultats)\n",
    "        - [Classifier](./5%20-%20Modèle%20Autencoder%20classifier.ipynb#Classifier)\n",
    "        - [Problèmes rencontrés](./5%20-%20Modèle%20Autencoder%20classifier.ipynb#Problèmes-rencontrés)"
   ]
  },
  {
   "cell_type": "markdown",
   "id": "381f5516",
   "metadata": {},
   "source": [
    "## __Introduction__\n",
    "Ces jupyter notebooks constituent les deux premières étapes du [workflow](#Worflow). Au fil de ces notebooks, nous allons voir en détail le processus mise en place pour la préparation des images. Ainsi que le processus de classification binaire des images, ce processus consiste à séparer les photographies des autres images du dataset. Pour cela, différents modèles seront considérés afin de prendre le meilleur."
   ]
  },
  {
   "cell_type": "markdown",
   "id": "3329f0a8",
   "metadata": {},
   "source": [
    "## __Contexte__\n",
    "L'entreprise *TouNum* souhaite compléter leur offre de numérisation de document auprès de leurs clients. Le grand nombre de documents de leurs clients à catégoriser étant très grand, il cherche donc fait à automatiser cette phase avec l'intelligence artificielle.\n",
    "\n",
    "<br /><br />\n",
    "L'entreprise *TouNum* nous as donc donné un jeu de données composé de **Peintures**, **Photographies**, **Schémas**, **Croquis** et **Textes**.\n",
    "\n",
    "<br /><br />\n",
    "Cependant, *TouNum* n'ayant pas de spécialiste dans le domaine de data science a donc fait appel à nos compétences."
   ]
  },
  {
   "cell_type": "markdown",
   "id": "99038024",
   "metadata": {},
   "source": [
    "## __Objectifs__\n",
    "### *Objectifs du projet*\n",
    "\n",
    "Le projet de *TouNum* est donc de créer un processus permettant la catégorisation de l'ensemble des documents numérisé de leurs clients. Nous allons créer ce [workflow](#Workflow) tous le long de ce projet, des livrables reprenant les différentes phases du workflow vont être livrée à *TouNum* pour justifier nos choix techniques.\n",
    "\n",
    "<br />\n",
    "\n",
    "### *Objectifs du livrable*\n",
    "\n",
    "Le livrable actuelle __Classification binaire__  devra pour être validé par notre client intégrer :\n",
    "1. Le code et les schémas des architectures des réseaux de neurones.\n",
    "2. La comparaison des modèles par le biais de graphique montrant l'évolution de l'erreur d’entraînement et de test ainsi que l'évolution de l'accuracy.\n",
    "4. Les méthodes qui seront mises en place afin d'améliorer les compromis biais/variance."
   ]
  },
  {
   "cell_type": "markdown",
   "id": "1c91b9df",
   "metadata": {},
   "source": [
    "## __Worflow__\n",
    "![Image workflow](https://cdn.ordigeek.fr/Workflow_projet.drawio.png)"
   ]
  },
  {
   "cell_type": "markdown",
   "id": "1ffe8986",
   "metadata": {},
   "source": [
    "## __Cadrage__\n",
    "\n",
    "Le groupe de projet est composé de : **Cahard Antoine (chef de projet)**, Chevalier Raphael, Feki Saifeddine, Le Fortier Quentin et Lecras Arthur. Pour nous organiser, nous avons décidé de séparer le projet en plusieurs livrables, le rendu de ces livrables ont été organisés sur plusieurs semaines (voir [Timeline](#Timeline)).\n",
    "\n",
    "### *Timeline*\n",
    "\n",
    "![Timeline](https://cdn.ordigeek.fr/Timeline.png)\n",
    "\n",
    "### *Trello*\n",
    "\n",
    "Pour la gestion des tâches concernant les livrables du projet, nous avons opté pour une méthodologie Agile en utilisant Trello comme outil.\n",
    "\n",
    "![Image Trello](https://cdn.ordigeek.fr/Trello-livrable1.png)"
   ]
  }
 ],
 "metadata": {
  "kernelspec": {
   "display_name": "Python 3 (ipykernel)",
   "language": "python",
   "name": "python3"
  },
  "language_info": {
   "codemirror_mode": {
    "name": "ipython",
    "version": 3
   },
   "file_extension": ".py",
   "mimetype": "text/x-python",
   "name": "python",
   "nbconvert_exporter": "python",
   "pygments_lexer": "ipython3",
   "version": "3.9.7"
  }
 },
 "nbformat": 4,
 "nbformat_minor": 5
}
