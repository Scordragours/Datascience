{
 "cells": [
  {
   "cell_type": "markdown",
   "metadata": {},
   "source": [
    "# __Autoencoder Multi-Class__\n",
    "---"
   ]
  },
  {
   "cell_type": "markdown",
   "metadata": {},
   "source": [
    "La classification par autoencoder fonctionne de la façon suivante :\n",
    "- Dans un premier temps, on utilise un encoder pour réduire les images et détecter les zones importantes.\n",
    "- Dans un second temps, on utilise un classificateur classique pour classer les images.\n",
    "\n",
    "Nous allons utiliser un autoencoder fully-connected, entrainer notre modèle et récupérer la partie encoder."
   ]
  },
  {
   "cell_type": "markdown",
   "metadata": {},
   "source": [
    "![Alternative text](https://www.researchgate.net/publication/331230358/figure/fig4/AS:959315259162633@1605729989983/The-schematic-architecture-of-a-classifier-autoencoder-A-gene-expression-profile-GEP.png)"
   ]
  },
  {
   "cell_type": "markdown",
   "metadata": {},
   "source": [
    "## __Importation des bibliothèques__"
   ]
  },
  {
   "cell_type": "code",
   "execution_count": 1,
   "metadata": {},
   "outputs": [],
   "source": [
    "import matplotlib.pyplot as plt\n",
    "import numpy as np\n",
    "import os\n",
    "import PIL\n",
    "import tensorflow as tf\n",
    "import datetime\n",
    "import cv2\n",
    "import shutil\n",
    "from tensorflow import keras, losses\n",
    "from keras import backend as K"
   ]
  },
  {
   "cell_type": "markdown",
   "metadata": {},
   "source": [
    "## __Création des jeux de données d'entrainement, de validation et de test__\n",
    "\n",
    "À partir du jeu de données fourni de la phase de pré-processing, il nous suffit de créer les différents Tensor pour réaliser nos différents tests.\n",
    "\n",
    "Dans un premier temps, nous créons les jeux de données d'entrainement et de validation. Pour cela, nous nous rendons dans le dossier 'Multi-Class' de notre dataset et nous prenons le dossier 'Train'. Nous prenons ce dossier pour les deux jeux de données.\n",
    "\n",
    "Ensuite, nous devons faire un split de ces jeux de données. Pour cela, il faut utiliser le paramètre 'Validation_split'. Nous redimensionnons les images en 128 par 128 pixels, et nous donnons les subsets 'Training' et 'Validation'."
   ]
  },
  {
   "cell_type": "code",
   "execution_count": 2,
   "metadata": {},
   "outputs": [
    {
     "name": "stdout",
     "output_type": "stream",
     "text": [
      "Found 1015 files belonging to 5 classes.\n",
      "Using 812 files for training.\n",
      "Found 1015 files belonging to 5 classes.\n",
      "Using 203 files for validation.\n"
     ]
    }
   ],
   "source": [
    "train = tf.keras.preprocessing.image_dataset_from_directory(\n",
    "    directory=r\"D:\\Quentin\\Etudes\\Cesi\\A5\\Option Data\\Projet\\Autoencoder\\dataset_reduit\",\n",
    "    labels=\"inferred\",\n",
    "    validation_split=0.2,\n",
    "    label_mode=\"categorical\",\n",
    "    class_names=['Painting', 'Photo', 'Schematics', 'Sketch', 'Text'],\n",
    "    seed=41,\n",
    "    subset='training',\n",
    "    image_size=(128,128),\n",
    "    interpolation=\"bilinear\",\n",
    "    follow_links=False,\n",
    ")\n",
    "validate = tf.keras.preprocessing.image_dataset_from_directory(\n",
    "    directory=r\"D:\\Quentin\\Etudes\\Cesi\\A5\\Option Data\\Projet\\Autoencoder\\dataset_reduit\",\n",
    "    labels=\"inferred\",\n",
    "    validation_split=0.2,\n",
    "    label_mode=\"categorical\",\n",
    "    class_names=['Painting', 'Photo', 'Schematics', 'Sketch', 'Text'],\n",
    "    seed=41,\n",
    "    subset='validation',\n",
    "    image_size=(128,128),\n",
    "    interpolation=\"bilinear\",\n",
    "    follow_links=False,\n",
    ")"
   ]
  },
  {
   "cell_type": "markdown",
   "metadata": {},
   "source": [
    "Pour le jeu de données de test, il faut prendre le dossier 'test' dans le dossier 'Multi-class'. Nous n'avons pas besoin de séparer nos données ou de créer un subset."
   ]
  },
  {
   "cell_type": "code",
   "execution_count": 3,
   "metadata": {},
   "outputs": [
    {
     "name": "stdout",
     "output_type": "stream",
     "text": [
      "Found 8199 files belonging to 5 classes.\n"
     ]
    }
   ],
   "source": [
    "test = tf.keras.preprocessing.image_dataset_from_directory(\n",
    "    directory=r\"D:\\Quentin\\Perso\\dataset\\multi-class\\test\",\n",
    "    labels=\"inferred\",\n",
    "    label_mode=\"categorical\",\n",
    "    class_names=['Painting', 'Photo', 'Schematics', 'Sketch', 'Text'],\n",
    "    seed=41,\n",
    "    subset=None,\n",
    "    image_size=(128,128),\n",
    "    interpolation=\"bilinear\",\n",
    "    follow_links=False,\n",
    ")"
   ]
  },
  {
   "cell_type": "markdown",
   "metadata": {},
   "source": [
    "## __Autoencoder__"
   ]
  },
  {
   "cell_type": "markdown",
   "metadata": {},
   "source": [
    "### *Normalisation des données*\n",
    "Il est possible d'utiliser un autoencoder afin de faire une classification. Dans un premier temps, nous créons un encoder décodeur.\n",
    "\n",
    "Pour cela, il faut d'abords normaliser nos données. Cela nous permettra d'avoir un meilleur résultat.\n",
    "\n",
    "Nous utilisons la méthode Rescaling, dans le but de redimensionner toutes les données entre 0 et 1."
   ]
  },
  {
   "cell_type": "code",
   "execution_count": 4,
   "metadata": {},
   "outputs": [],
   "source": [
    "normalization_layer = tf.keras.layers.Rescaling(1./255)\n",
    "def change_inputs(images, labels):\n",
    "  x = tf.image.resize(normalization_layer(images),[128, 128], method=tf.image.ResizeMethod.NEAREST_NEIGHBOR)\n",
    "  return x, x\n",
    "normalized_ds = train.map(change_inputs)\n",
    "normalized_validate = validate.map(change_inputs)\n",
    "normalized_test = test.map(change_inputs)"
   ]
  },
  {
   "cell_type": "markdown",
   "metadata": {},
   "source": [
    "### *Création de la fonction d'Autoencoder*\n",
    "Ensuite, nous créons l'autoencoder. Il est composé de deux parties :\n",
    "- L'encoder, qui va permettre de réduire les images, et qui sera utile pour le classificateur.\n",
    "- Le décoder, qui sera utile pour l'entrainement du modèle. Il sera ensuite retiré lors des prédictions."
   ]
  },
  {
   "cell_type": "markdown",
   "metadata": {},
   "source": [
    "#### Création de l'encoder\n",
    "Dans un premier temps, nous créons l'encoder. On commence par créer l'encoder.\n",
    "\n",
    "- Nous commençons par créer notre couche d'entrée, qui correspond au nombre de pixels de notre image.\n",
    "\n",
    "- Nous récupérons cette entrée pour faire un Flatten(), afin de mettre toutes les entrées sur une seule ligne.\n",
    "\n",
    "- Nous créons ensuite deux couches, une de 4 096 entrées avec une fonction d'activation 'RElu', et une couche de batchnormalization. Cette fonction permet de normaliser la sortie de la couche précédente afin de facilité l'apprentissage dans la couche suivante. Cette fonction de normalisation s'effectue sur chacun des batchs de notre jeu de données.\n",
    "\n",
    "- Nous terminons par créer notre couche d'espace latent, qui récupère les images réduites.\n",
    "\n",
    "À la fin de ces étapes, nous créons modèle d'encoder, avec comme entrée la variable 'encoder_inputs' et comme sortie la variable 'latent_space'."
   ]
  },
  {
   "cell_type": "markdown",
   "metadata": {},
   "source": [
    "#### Création du décoder\n",
    "La structure du décoder va ressembler à celui de l'encoder.\n",
    "\n",
    "- Nous récupérons la sortie de l'encoder, qui se trouve dans la variable 'latent_space' pour créer la couche d'entrée du décoder. Nous ne mettons que 64 comme taille d'entrée, car c'est la taille de la variable 'latent_space'.\n",
    "\n",
    "- Nous créons ensuite deux couches, une de 4 096 entrées avec une fonction d'activation 'RElu', et une couche de batchnormalization.\n",
    "\n",
    "- Nous créons une autre couche avec 49 152 entrées et nous utilisons la fonction d'activation 'sigmoid'. Utiliser cette fonction est plus efficace pour la recomposition de l'image.\n",
    "\n",
    "- Enfin, nous allons utiliser la fonction Reshape, afin de restaurer les images dans leur forme d'origine. Si nous ne faisons pas ce redimensionnement, nous ne pourrions pas faire la comparaison entre les images d'entrées et les images de sorties.\n",
    "\n",
    "À la fin de ces étapes, nous créons modèle du décoder, avec comme entrée la variable 'decoder_inputs' et comme sortie la variable 'output'."
   ]
  },
  {
   "cell_type": "markdown",
   "metadata": {},
   "source": [
    "#### Fusion de l'encoder et du décoder pour créer l'autoencoder\n",
    "Une fois que l'encoder et le décoder créés, nous utilisons la même méthode pour créer l'autoencoder, en utilisant comme variable d'entrée 'encoder_inputs' et comme variable de sortie 'outputs'."
   ]
  },
  {
   "cell_type": "code",
   "execution_count": 5,
   "metadata": {},
   "outputs": [],
   "source": [
    "def create_autoencoder(data_train, data_validation, nb_epochs, save_weights_path):\n",
    "    latent_space_dim = 64\n",
    "# Architecture de l'Encodeur\n",
    "    encoder_inputs = tf.keras.Input(shape=(128, 128, 3))\n",
    "    flatten = tf.keras.layers.Flatten()(encoder_inputs)\n",
    "    hidden3 = tf.keras.layers.Dense(4096, activation='relu')(flatten)\n",
    "    hidden4 =  tf.keras.layers.BatchNormalization()(hidden3)\n",
    "    latent_space = tf.keras.layers.Dense(latent_space_dim, activation='relu')(hidden4)\n",
    "\n",
    "    encoder = keras.Model(encoder_inputs, latent_space, name=\"encoder\")\n",
    "\n",
    "# Architecture du Décodeur  \n",
    "    decoder_inputs = tf.keras.Input(shape=(64,))\n",
    "    hidden9 = tf.keras.layers.Dense(4096, activation='relu')(decoder_inputs)\n",
    "    hidden10 = tf.keras.layers.BatchNormalization()(hidden9)\n",
    "    decoder_outputs = tf.keras.layers.Dense(49152, activation='sigmoid')(hidden10)\n",
    "    output = tf.keras.layers.Reshape(target_shape=(128, 128 ,3))(decoder_outputs)\n",
    "\n",
    "    decoder = keras.Model(decoder_inputs, output, name=\"decoder\")\n",
    "\n",
    "# Combinaison des deux Architecture (Enc,Dec)\n",
    "    outputs = decoder(latent_space)\n",
    "    autoencoder = keras.Model(encoder_inputs, outputs, name=\"autoencoder\")\n",
    "    autoencoder.summary()\n",
    "\n",
    "# Compilation du modèle\n",
    "    autoencoder.compile(optimizer='adam', loss= 'mse', metrics=['accuracy'])\n",
    "\n",
    "# Exécution du modèle\n",
    "    history = autoencoder.fit(data_train, epochs=nb_epochs,\n",
    "                    batch_size=32,\n",
    "                    shuffle=True,\n",
    "                    validation_data=(data_validation))\n",
    "\n",
    "# Sauvegarde des paramètres\n",
    "    autoencoder.save(r\"D:\\Quentin\\Etudes\\Cesi\\A5\\Option Data\\Projet\\Autoencoder\\poids\\model_deux.h5\")\n",
    "    encoder.save(r\"D:\\Quentin\\Etudes\\Cesi\\A5\\Option Data\\Projet\\Autoencoder\\poids\\encoder_deux.h5\")\n",
    "\n",
    "    plt.plot(history.history['loss'], label='train')\n",
    "    plt.plot(history.history['val_loss'], label='test')\n",
    "    plt.legend()\n",
    "    return history"
   ]
  },
  {
   "cell_type": "markdown",
   "metadata": {},
   "source": [
    "#### Compilation\n",
    "Lors de la Compilation du modèle, nous utilisons l'optimizer 'Adam' ainsi que la fonction de perte MSE. Le but de la MSE, où Mean Squared Error, est de calculer le carré de la différence entre la valeur prédite et la valeur réel. Nous faisons ensuite une moyenne sur ces valeurs. Nous utilisons la MSE comme fonction perte, car elle apporte de bons résultats avec des données comme les images."
   ]
  },
  {
   "cell_type": "markdown",
   "metadata": {},
   "source": [
    "#### Apprentissage\n",
    "Enfin vient le moment de l'entrainement du modèle. Pour cela, dans les paramètres de la fonction fit, nous définissons la taille des batchs à 32. Nous définissons plus loin le nombre d'époques à utiliser, qui est de 10."
   ]
  },
  {
   "cell_type": "markdown",
   "metadata": {},
   "source": [
    "#### Sauvegarde des poids\n",
    "Nous terminons cette méthode de création d'un autoencoder par l'enregistrement des poids. Dans un premier temps, nous enregistrons l'ensemble des poids de l'autoencoder. Il pourrait nous servir lors de la phase de traitement d'images ou pour d'autres projets. Il peut vous être utile afin d'éviter de lancer tout le code.\n",
    "\n",
    "Enfin, nous enregistrons les poids de la partie encoder. C'est cette partie qui nous intéresse pour la classification."
   ]
  },
  {
   "cell_type": "code",
   "execution_count": 6,
   "metadata": {},
   "outputs": [
    {
     "name": "stdout",
     "output_type": "stream",
     "text": [
      "Model: \"autoencoder\"\n",
      "_________________________________________________________________\n",
      " Layer (type)                Output Shape              Param #   \n",
      "=================================================================\n",
      " input_1 (InputLayer)        [(None, 128, 128, 3)]     0         \n",
      "                                                                 \n",
      " flatten (Flatten)           (None, 49152)             0         \n",
      "                                                                 \n",
      " dense (Dense)               (None, 4096)              201330688 \n",
      "                                                                 \n",
      " batch_normalization (BatchN  (None, 4096)             16384     \n",
      " ormalization)                                                   \n",
      "                                                                 \n",
      " dense_1 (Dense)             (None, 64)                262208    \n",
      "                                                                 \n",
      " decoder (Functional)        (None, 128, 128, 3)       201658368 \n",
      "                                                                 \n",
      "=================================================================\n",
      "Total params: 403,267,648\n",
      "Trainable params: 403,251,264\n",
      "Non-trainable params: 16,384\n",
      "_________________________________________________________________\n",
      "Epoch 1/10\n",
      "26/26 [==============================] - 55s 2s/step - loss: 0.0758 - accuracy: 0.3074 - val_loss: 0.4643 - val_accuracy: 0.3229\n",
      "Epoch 2/10\n",
      "26/26 [==============================] - 50s 2s/step - loss: 0.0536 - accuracy: 0.3234 - val_loss: 0.3281 - val_accuracy: 0.3233\n",
      "Epoch 3/10\n",
      "26/26 [==============================] - 52s 2s/step - loss: 0.0418 - accuracy: 0.3499 - val_loss: 0.0961 - val_accuracy: 0.2834\n",
      "Epoch 4/10\n",
      "26/26 [==============================] - 51s 2s/step - loss: 0.0337 - accuracy: 0.4433 - val_loss: 0.0778 - val_accuracy: 0.3110\n",
      "Epoch 5/10\n",
      "26/26 [==============================] - 48s 2s/step - loss: 0.0331 - accuracy: 0.4280 - val_loss: 0.0547 - val_accuracy: 0.4791\n",
      "Epoch 6/10\n",
      "26/26 [==============================] - 48s 2s/step - loss: 0.0335 - accuracy: 0.4598 - val_loss: 0.0522 - val_accuracy: 0.4731\n",
      "Epoch 7/10\n",
      "26/26 [==============================] - 49s 2s/step - loss: 0.0330 - accuracy: 0.4289 - val_loss: 0.0327 - val_accuracy: 0.5458\n",
      "Epoch 8/10\n",
      "26/26 [==============================] - 47s 2s/step - loss: 0.0309 - accuracy: 0.4238 - val_loss: 0.0401 - val_accuracy: 0.6418\n",
      "Epoch 9/10\n",
      "26/26 [==============================] - 51s 2s/step - loss: 0.0273 - accuracy: 0.4559 - val_loss: 0.0434 - val_accuracy: 0.6532\n",
      "Epoch 10/10\n",
      "26/26 [==============================] - 48s 2s/step - loss: 0.0298 - accuracy: 0.4633 - val_loss: 0.0476 - val_accuracy: 0.5794\n",
      "WARNING:tensorflow:Compiled the loaded model, but the compiled metrics have yet to be built. `model.compile_metrics` will be empty until you train or evaluate the model.\n"
     ]
    },
    {
     "data": {
      "image/png": "[encoded data removed]",
      "text/plain": [
       "<Figure size 432x288 with 1 Axes>"
      ]
     },
     "metadata": {
      "needs_background": "light"
     },
     "output_type": "display_data"
    }
   ],
   "source": [
    "ae = create_autoencoder(normalized_ds, normalized_validate, 10, \"D:\\\\Quentin\\\\Etudes\\\\Cesi\\\\A5\\\\Option Data\\\\Projet\\\\Autoencoder\\\\poids\")"
   ]
  },
  {
   "cell_type": "markdown",
   "metadata": {},
   "source": [
    "#### Interprétation des résultats\n",
    "Nous nous rendons compte, au vu du graphique ci-dessus, que notre autoencoder est assez performant. En effet, nous pouvons voir que notre modèle arrive à généraliser sur les données. Mais ce test n'a pas été réalisé qu'avec un échantillon de 1000 images.\n",
    "\n",
    "Ce modèle est en réalité assez peu performant, ce qui est principalement du au nombre limité de couches dans notre réseau. En effet, nous ne pouvions pas mettre beaucoup de couches avec une réduction et une augmentation rapide des images, car le nombre de paramètres serait trop élevé et le temps d'entrainement de notre modèle aurait été trop élevé.\n",
    "\n",
    "Une autre conséquence de cette performance est l'aspect Fully-Connected de notre réseau. Cela augmente le nombre de paramètres, et donc le temps d'entrainement du modèle."
   ]
  },
  {
   "cell_type": "markdown",
   "metadata": {},
   "source": [
    "Code pour charger les poids d'un modèle :"
   ]
  },
  {
   "cell_type": "code",
   "execution_count": 7,
   "metadata": {},
   "outputs": [
    {
     "name": "stderr",
     "output_type": "stream",
     "text": [
      "\n",
      "KeyboardInterrupt\n",
      "\n"
     ]
    }
   ],
   "source": [
    "saved_model = tf.keras.models.load_model(r\"D:\\Quentin\\Etudes\\Cesi\\A5\\Option Data\\Projet\\Autoencoder\\poids\\model_un.h5\")"
   ]
  },
  {
   "cell_type": "markdown",
   "metadata": {},
   "source": [
    "### *Classifier*\n",
    "Le classifier est la partie qui va permettre de classer les images encodées. La structure du modèle est de la forme suivante :\n",
    "- Nous commençons par faire un Flatten() en récupérant la sortie de l'encoder.\n",
    "- Ensuite, nous faisons 4 couches de neurones de 64, 32, 16 et 5, où 5 est le nombre de classes de nos images.\n",
    "- Nous compilons le modèle avec l'optimizer 'adam' et la fonction de perte 'SparseCategoricalCrossentropy'."
   ]
  },
  {
   "cell_type": "code",
   "execution_count": null,
   "metadata": {},
   "outputs": [],
   "source": [
    "classifier = tf.keras.Sequential()\n",
    "classifier.add(tf.keras.layers.Flatten(input_shape=(812, 64)))\n",
    "classifier.add(tf.keras.layers.Dense(64, activation='relu'))\n",
    "classifier.add(tf.keras.layers.Dense(32, activation='relu'))\n",
    "classifier.add(tf.keras.layers.Dense(16, activation='relu'))\n",
    "classifier.add(tf.keras.layers.Dense(5, activation='relu'))\n",
    "classifier.compile(optimizer='adam',\n",
    "              loss=tf.keras.losses.SparseCategoricalCrossentropy(from_logits=True),\n",
    "              metrics=['accuracy'])\n"
   ]
  },
  {
   "cell_type": "markdown",
   "metadata": {},
   "source": [
    "### *Problèmes rencontrés*\n",
    "L'autoencoder Classifier n'est pas encore terminé. Nous rencontrons des difficultés avec la taille de la sortie de l'encoder avec l'entrée du classifier."
   ]
  },
  {
   "cell_type": "code",
   "execution_count": null,
   "metadata": {},
   "outputs": [
    {
     "name": "stdout",
     "output_type": "stream",
     "text": [
      "WARNING:tensorflow:No training configuration found in the save file, so the model was *not* compiled. Compile it manually.\n",
      "26/26 [==============================] - 6s 134ms/step\n",
      "7/7 [==============================] - 2s 126ms/step\n"
     ]
    }
   ],
   "source": [
    "encoder = tf.keras.models.load_model(r\"D:\\Quentin\\Etudes\\Cesi\\A5\\Option Data\\Projet\\Autoencoder\\poids\\encoder_deux.h5\")\n",
    "X_train_encoded = encoder.predict(normalized_ds)\n",
    "Y_train_encoded = encoder.predict(normalized_validate)\n"
   ]
  },
  {
   "cell_type": "code",
   "execution_count": null,
   "metadata": {},
   "outputs": [
    {
     "ename": "ValueError",
     "evalue": "The truth value of an array with more than one element is ambiguous. Use a.any() or a.all()",
     "output_type": "error",
     "traceback": [
      "\u001b[1;31m---------------------------------------------------------------------------\u001b[0m",
      "\u001b[1;31mValueError\u001b[0m                                Traceback (most recent call last)",
      "\u001b[1;32md:\\Quentin\\Etudes\\Cesi\\A5\\Option Data\\Projet\\main.ipynb Cellule 22\u001b[0m in \u001b[0;36m<cell line: 1>\u001b[1;34m()\u001b[0m\n\u001b[1;32m----> <a href='vscode-notebook-cell:/d%3A/Quentin/Etudes/Cesi/A5/Option%20Data/Projet/main.ipynb#X16sZmlsZQ%3D%3D?line=0'>1</a>\u001b[0m classifier\u001b[39m.\u001b[39;49mfit(X_train_encoded, validation_data\u001b[39m=\u001b[39;49m(Y_train_encoded),\n\u001b[0;32m      <a href='vscode-notebook-cell:/d%3A/Quentin/Etudes/Cesi/A5/Option%20Data/Projet/main.ipynb#X16sZmlsZQ%3D%3D?line=1'>2</a>\u001b[0m             epochs\u001b[39m=\u001b[39;49m\u001b[39m5\u001b[39;49m,\n\u001b[0;32m      <a href='vscode-notebook-cell:/d%3A/Quentin/Etudes/Cesi/A5/Option%20Data/Projet/main.ipynb#X16sZmlsZQ%3D%3D?line=2'>3</a>\u001b[0m             batch_size\u001b[39m=\u001b[39;49m\u001b[39m32\u001b[39;49m,\n\u001b[0;32m      <a href='vscode-notebook-cell:/d%3A/Quentin/Etudes/Cesi/A5/Option%20Data/Projet/main.ipynb#X16sZmlsZQ%3D%3D?line=3'>4</a>\u001b[0m             shuffle\u001b[39m=\u001b[39;49m\u001b[39mTrue\u001b[39;49;00m)\n",
      "File \u001b[1;32mc:\\Users\\Le Fortier\\AppData\\Local\\Programs\\Python\\Python38\\lib\\site-packages\\keras\\utils\\traceback_utils.py:70\u001b[0m, in \u001b[0;36mfilter_traceback.<locals>.error_handler\u001b[1;34m(*args, **kwargs)\u001b[0m\n\u001b[0;32m     67\u001b[0m     filtered_tb \u001b[39m=\u001b[39m _process_traceback_frames(e\u001b[39m.\u001b[39m__traceback__)\n\u001b[0;32m     68\u001b[0m     \u001b[39m# To get the full stack trace, call:\u001b[39;00m\n\u001b[0;32m     69\u001b[0m     \u001b[39m# `tf.debugging.disable_traceback_filtering()`\u001b[39;00m\n\u001b[1;32m---> 70\u001b[0m     \u001b[39mraise\u001b[39;00m e\u001b[39m.\u001b[39mwith_traceback(filtered_tb) \u001b[39mfrom\u001b[39;00m \u001b[39mNone\u001b[39m\n\u001b[0;32m     71\u001b[0m \u001b[39mfinally\u001b[39;00m:\n\u001b[0;32m     72\u001b[0m     \u001b[39mdel\u001b[39;00m filtered_tb\n",
      "File \u001b[1;32mc:\\Users\\Le Fortier\\AppData\\Local\\Programs\\Python\\Python38\\lib\\site-packages\\keras\\engine\\training.py:1483\u001b[0m, in \u001b[0;36mModel.fit\u001b[1;34m(self, x, y, batch_size, epochs, verbose, callbacks, validation_split, validation_data, shuffle, class_weight, sample_weight, initial_epoch, steps_per_epoch, validation_steps, validation_batch_size, validation_freq, max_queue_size, workers, use_multiprocessing)\u001b[0m\n\u001b[0;32m   1472\u001b[0m \u001b[39mif\u001b[39;00m validation_split \u001b[39mand\u001b[39;00m validation_data \u001b[39mis\u001b[39;00m \u001b[39mNone\u001b[39;00m:\n\u001b[0;32m   1473\u001b[0m     \u001b[39m# Create the validation data using the training data. Only supported\u001b[39;00m\n\u001b[0;32m   1474\u001b[0m     \u001b[39m# for `Tensor` and `NumPy` input.\u001b[39;00m\n\u001b[0;32m   1475\u001b[0m     (\n\u001b[0;32m   1476\u001b[0m         x,\n\u001b[0;32m   1477\u001b[0m         y,\n\u001b[1;32m   (...)\u001b[0m\n\u001b[0;32m   1480\u001b[0m         (x, y, sample_weight), validation_split\u001b[39m=\u001b[39mvalidation_split\n\u001b[0;32m   1481\u001b[0m     )\n\u001b[1;32m-> 1483\u001b[0m \u001b[39mif\u001b[39;00m validation_data:\n\u001b[0;32m   1484\u001b[0m     (\n\u001b[0;32m   1485\u001b[0m         val_x,\n\u001b[0;32m   1486\u001b[0m         val_y,\n\u001b[0;32m   1487\u001b[0m         val_sample_weight,\n\u001b[0;32m   1488\u001b[0m     ) \u001b[39m=\u001b[39m data_adapter\u001b[39m.\u001b[39munpack_x_y_sample_weight(validation_data)\n\u001b[0;32m   1490\u001b[0m \u001b[39mif\u001b[39;00m \u001b[39mself\u001b[39m\u001b[39m.\u001b[39mdistribute_strategy\u001b[39m.\u001b[39m_should_use_with_coordinator:\n",
      "\u001b[1;31mValueError\u001b[0m: The truth value of an array with more than one element is ambiguous. Use a.any() or a.all()"
     ]
    }
   ],
   "source": [
    "classifier.fit(X_train_encoded, validation_data=(Y_train_encoded),\n",
    "            epochs=5,\n",
    "            batch_size=32,\n",
    "            shuffle=True)"
   ]
  }
 ],
 "metadata": {
  "kernelspec": {
   "display_name": "Python 3 (ipykernel)",
   "language": "python",
   "name": "python3"
  },
  "language_info": {
   "codemirror_mode": {
    "name": "ipython",
    "version": 3
   },
   "file_extension": ".py",
   "mimetype": "text/x-python",
   "name": "python",
   "nbconvert_exporter": "python",
   "pygments_lexer": "ipython3",
   "version": "3.9.13"
  },
  "vscode": {
   "interpreter": {
    "hash": "e7efb1a62b5e4d6a1eb98494641a36180ec477bc661a6e1e9b0fe4f65a1b72ed"
   }
  }
 },
 "nbformat": 4,
 "nbformat_minor": 2
}
